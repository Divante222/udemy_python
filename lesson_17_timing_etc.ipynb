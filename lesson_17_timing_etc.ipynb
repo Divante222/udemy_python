{
 "cells": [
  {
   "cell_type": "code",
   "execution_count": 1,
   "id": "33244c85",
   "metadata": {},
   "outputs": [],
   "source": [
    "def func_one(n):\n",
    "    return [str(num) for num in range(n)]"
   ]
  },
  {
   "cell_type": "code",
   "execution_count": 2,
   "id": "40a670bf",
   "metadata": {},
   "outputs": [
    {
     "data": {
      "text/plain": [
       "['0', '1', '2', '3', '4', '5', '6', '7', '8', '9']"
      ]
     },
     "execution_count": 2,
     "metadata": {},
     "output_type": "execute_result"
    }
   ],
   "source": [
    "func_one(10)"
   ]
  },
  {
   "cell_type": "code",
   "execution_count": 3,
   "id": "bc7e5253",
   "metadata": {},
   "outputs": [],
   "source": [
    "def func_two(n):\n",
    "    return list(map(str,range(n)))"
   ]
  },
  {
   "cell_type": "code",
   "execution_count": 4,
   "id": "5584db95",
   "metadata": {},
   "outputs": [
    {
     "data": {
      "text/plain": [
       "['0', '1', '2', '3', '4', '5', '6', '7', '8', '9']"
      ]
     },
     "execution_count": 4,
     "metadata": {},
     "output_type": "execute_result"
    }
   ],
   "source": [
    "func_two(10)"
   ]
  },
  {
   "cell_type": "markdown",
   "id": "a2e3af94",
   "metadata": {},
   "source": [
    "# Calculate the difference"
   ]
  },
  {
   "cell_type": "code",
   "execution_count": 5,
   "id": "a3645955",
   "metadata": {},
   "outputs": [],
   "source": [
    "import time"
   ]
  },
  {
   "cell_type": "code",
   "execution_count": 6,
   "id": "d768b5a9",
   "metadata": {},
   "outputs": [],
   "source": [
    "start_time = time.time()\n",
    "\n",
    "\n",
    "result = func_one(1000)\n",
    "\n",
    "end_time = time.time()\n",
    "\n",
    "elasped_time = end_time - start_time"
   ]
  },
  {
   "cell_type": "code",
   "execution_count": 7,
   "id": "1d73ddd0",
   "metadata": {},
   "outputs": [
    {
     "data": {
      "text/plain": [
       "0.00010395050048828125"
      ]
     },
     "execution_count": 7,
     "metadata": {},
     "output_type": "execute_result"
    }
   ],
   "source": [
    "elasped_time"
   ]
  },
  {
   "cell_type": "code",
   "execution_count": 8,
   "id": "5f89bbea",
   "metadata": {},
   "outputs": [],
   "source": [
    "start_time = time.time()\n",
    "\n",
    "\n",
    "result = func_two(1000)\n",
    "\n",
    "end_time = time.time()\n",
    "\n",
    "elasped_time = end_time - start_time"
   ]
  },
  {
   "cell_type": "code",
   "execution_count": 9,
   "id": "5cf9b0cd",
   "metadata": {},
   "outputs": [
    {
     "data": {
      "text/plain": [
       "9.894371032714844e-05"
      ]
     },
     "execution_count": 9,
     "metadata": {},
     "output_type": "execute_result"
    }
   ],
   "source": [
    "elasped_time"
   ]
  },
  {
   "cell_type": "code",
   "execution_count": 10,
   "id": "0be85390",
   "metadata": {},
   "outputs": [],
   "source": [
    "import timeit"
   ]
  },
  {
   "cell_type": "code",
   "execution_count": 11,
   "id": "b16a2f29",
   "metadata": {},
   "outputs": [],
   "source": [
    "stmt = '''\n",
    "func_one(100)\n",
    "'''"
   ]
  },
  {
   "cell_type": "code",
   "execution_count": 12,
   "id": "0c25dc37",
   "metadata": {},
   "outputs": [],
   "source": [
    "setup = '''\n",
    "def func_one(n):\n",
    "    return [str(num) for num in range(n)]\n",
    "'''"
   ]
  },
  {
   "cell_type": "code",
   "execution_count": 13,
   "id": "be9735d8",
   "metadata": {},
   "outputs": [
    {
     "data": {
      "text/plain": [
       "0.661893541"
      ]
     },
     "execution_count": 13,
     "metadata": {},
     "output_type": "execute_result"
    }
   ],
   "source": [
    "timeit.timeit(stmt, setup, number= 100000)"
   ]
  },
  {
   "cell_type": "code",
   "execution_count": 14,
   "id": "b9531a1b",
   "metadata": {},
   "outputs": [],
   "source": [
    "stmt = '''\n",
    "func_two(100)\n",
    "'''\n",
    "\n",
    "setup = '''\n",
    "def func_two(n):\n",
    "    return [str(num) for num in range(n)]\n",
    "'''"
   ]
  },
  {
   "cell_type": "code",
   "execution_count": 15,
   "id": "2995148b",
   "metadata": {},
   "outputs": [
    {
     "data": {
      "text/plain": [
       "0.6593896669999999"
      ]
     },
     "execution_count": 15,
     "metadata": {},
     "output_type": "execute_result"
    }
   ],
   "source": [
    "timeit.timeit(stmt, setup, number= 100000)"
   ]
  },
  {
   "cell_type": "code",
   "execution_count": 16,
   "id": "f83cd6e0",
   "metadata": {},
   "outputs": [
    {
     "name": "stdout",
     "output_type": "stream",
     "text": [
      "6.45 µs ± 43.4 ns per loop (mean ± std. dev. of 7 runs, 100,000 loops each)\n"
     ]
    }
   ],
   "source": [
    "%%timeit\n",
    "func_one(100)"
   ]
  },
  {
   "cell_type": "code",
   "execution_count": 17,
   "id": "1a294887",
   "metadata": {},
   "outputs": [
    {
     "name": "stdout",
     "output_type": "stream",
     "text": [
      "5.59 µs ± 7.41 ns per loop (mean ± std. dev. of 7 runs, 100,000 loops each)\n"
     ]
    }
   ],
   "source": [
    "%%timeit\n",
    "func_two(100)"
   ]
  },
  {
   "cell_type": "code",
   "execution_count": 18,
   "id": "6343dbf0",
   "metadata": {},
   "outputs": [
    {
     "data": {
      "text/plain": [
       "[['0', '1', '2', '3', '4', '5', '6', '7', '8', '9'], ['0', '1', '2', '3']]"
      ]
     },
     "execution_count": 18,
     "metadata": {},
     "output_type": "execute_result"
    }
   ],
   "source": [
    "list(map(func_one, [10, 4]))"
   ]
  },
  {
   "cell_type": "code",
   "execution_count": 20,
   "id": "537b50d5",
   "metadata": {},
   "outputs": [],
   "source": [
    "f = open('fileone.txt', 'w+')\n",
    "f.write('ONE FILE')\n",
    "f.close()"
   ]
  },
  {
   "cell_type": "code",
   "execution_count": 21,
   "id": "718d6782",
   "metadata": {},
   "outputs": [],
   "source": [
    "f = open('filetwo.txt', 'w+')\n",
    "f.write('TWO FILE')\n",
    "f.close()"
   ]
  },
  {
   "cell_type": "markdown",
   "id": "b8f14175",
   "metadata": {},
   "source": [
    "# zip individual file"
   ]
  },
  {
   "cell_type": "code",
   "execution_count": 23,
   "id": "92b632ed",
   "metadata": {},
   "outputs": [],
   "source": [
    "import zipfile"
   ]
  },
  {
   "cell_type": "code",
   "execution_count": 24,
   "id": "efe0ff2b",
   "metadata": {},
   "outputs": [],
   "source": [
    "comp_file = zipfile.ZipFile('comp_file.zip', 'w')"
   ]
  },
  {
   "cell_type": "code",
   "execution_count": 25,
   "id": "ba6b4f28",
   "metadata": {},
   "outputs": [],
   "source": [
    "comp_file.write('fileone.txt', compress_type = zipfile.ZIP_DEFLATED)"
   ]
  },
  {
   "cell_type": "code",
   "execution_count": 26,
   "id": "5f62b4b4",
   "metadata": {},
   "outputs": [],
   "source": [
    "comp_file.write('filetwo.txt', compress_type = zipfile.ZIP_DEFLATED)"
   ]
  },
  {
   "cell_type": "code",
   "execution_count": 28,
   "id": "48e9adc8",
   "metadata": {},
   "outputs": [],
   "source": [
    "comp_file.close()"
   ]
  },
  {
   "cell_type": "code",
   "execution_count": 30,
   "id": "22f0dc90",
   "metadata": {},
   "outputs": [],
   "source": [
    "zip_obj = zipfile.ZipFile('comp_file.zip', 'r')"
   ]
  },
  {
   "cell_type": "code",
   "execution_count": 33,
   "id": "408721ac",
   "metadata": {},
   "outputs": [],
   "source": [
    "zip_obj.extractall('extracted_content')"
   ]
  },
  {
   "cell_type": "code",
   "execution_count": 34,
   "id": "92204216",
   "metadata": {},
   "outputs": [
    {
     "data": {
      "text/plain": [
       "'/Users/divante/codeup-data-science/udemy_python'"
      ]
     },
     "execution_count": 34,
     "metadata": {},
     "output_type": "execute_result"
    }
   ],
   "source": [
    "pwd"
   ]
  },
  {
   "cell_type": "markdown",
   "id": "90d12425",
   "metadata": {},
   "source": [
    "# zip the entire folder"
   ]
  },
  {
   "cell_type": "code",
   "execution_count": 35,
   "id": "23ab4054",
   "metadata": {},
   "outputs": [],
   "source": [
    "import shutil"
   ]
  },
  {
   "cell_type": "code",
   "execution_count": 36,
   "id": "66c750db",
   "metadata": {},
   "outputs": [],
   "source": [
    "dir_to_zip = '/Users/divante/codeup-data-science/udemy_python/extracted_content'"
   ]
  },
  {
   "cell_type": "code",
   "execution_count": 37,
   "id": "4ec000de",
   "metadata": {},
   "outputs": [],
   "source": [
    "output_filename = 'example'"
   ]
  },
  {
   "cell_type": "code",
   "execution_count": 39,
   "id": "cd865b3d",
   "metadata": {},
   "outputs": [
    {
     "data": {
      "text/plain": [
       "'/Users/divante/codeup-data-science/udemy_python/example.zip'"
      ]
     },
     "execution_count": 39,
     "metadata": {},
     "output_type": "execute_result"
    }
   ],
   "source": [
    "shutil.make_archive(output_filename, 'zip', dir_to_zip)"
   ]
  },
  {
   "cell_type": "code",
   "execution_count": 40,
   "id": "7de183fb",
   "metadata": {},
   "outputs": [],
   "source": [
    "shutil.unpack_archive('example.zip', 'final_unzip', 'zip')"
   ]
  },
  {
   "cell_type": "code",
   "execution_count": null,
   "id": "a5484c2b",
   "metadata": {},
   "outputs": [],
   "source": []
  }
 ],
 "metadata": {
  "kernelspec": {
   "display_name": "Python 3 (ipykernel)",
   "language": "python",
   "name": "python3"
  },
  "language_info": {
   "codemirror_mode": {
    "name": "ipython",
    "version": 3
   },
   "file_extension": ".py",
   "mimetype": "text/x-python",
   "name": "python",
   "nbconvert_exporter": "python",
   "pygments_lexer": "ipython3",
   "version": "3.9.16"
  }
 },
 "nbformat": 4,
 "nbformat_minor": 5
}
