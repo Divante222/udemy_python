{
 "cells": [
  {
   "cell_type": "code",
   "execution_count": 1,
   "id": "33244c85",
   "metadata": {},
   "outputs": [],
   "source": [
    "def func_one(n):\n",
    "    return [str(num) for num in range(n)]"
   ]
  },
  {
   "cell_type": "code",
   "execution_count": 2,
   "id": "40a670bf",
   "metadata": {},
   "outputs": [
    {
     "data": {
      "text/plain": [
       "['0', '1', '2', '3', '4', '5', '6', '7', '8', '9']"
      ]
     },
     "execution_count": 2,
     "metadata": {},
     "output_type": "execute_result"
    }
   ],
   "source": [
    "func_one(10)"
   ]
  },
  {
   "cell_type": "code",
   "execution_count": 3,
   "id": "bc7e5253",
   "metadata": {},
   "outputs": [],
   "source": [
    "def func_two(n):\n",
    "    return list(map(str,range(n)))"
   ]
  },
  {
   "cell_type": "code",
   "execution_count": 4,
   "id": "5584db95",
   "metadata": {},
   "outputs": [
    {
     "data": {
      "text/plain": [
       "['0', '1', '2', '3', '4', '5', '6', '7', '8', '9']"
      ]
     },
     "execution_count": 4,
     "metadata": {},
     "output_type": "execute_result"
    }
   ],
   "source": [
    "func_two(10)"
   ]
  },
  {
   "cell_type": "markdown",
   "id": "a2e3af94",
   "metadata": {},
   "source": [
    "# Calculate the difference"
   ]
  },
  {
   "cell_type": "code",
   "execution_count": 5,
   "id": "a3645955",
   "metadata": {},
   "outputs": [],
   "source": [
    "import time"
   ]
  },
  {
   "cell_type": "code",
   "execution_count": 6,
   "id": "d768b5a9",
   "metadata": {},
   "outputs": [],
   "source": [
    "start_time = time.time()\n",
    "\n",
    "\n",
    "result = func_one(1000)\n",
    "\n",
    "end_time = time.time()\n",
    "\n",
    "elasped_time = end_time - start_time"
   ]
  },
  {
   "cell_type": "code",
   "execution_count": 7,
   "id": "1d73ddd0",
   "metadata": {},
   "outputs": [
    {
     "data": {
      "text/plain": [
       "9.894371032714844e-05"
      ]
     },
     "execution_count": 7,
     "metadata": {},
     "output_type": "execute_result"
    }
   ],
   "source": [
    "elasped_time"
   ]
  },
  {
   "cell_type": "code",
   "execution_count": 8,
   "id": "5f89bbea",
   "metadata": {},
   "outputs": [],
   "source": [
    "start_time = time.time()\n",
    "\n",
    "\n",
    "result = func_two(1000)\n",
    "\n",
    "end_time = time.time()\n",
    "\n",
    "elasped_time = end_time - start_time"
   ]
  },
  {
   "cell_type": "code",
   "execution_count": 9,
   "id": "5cf9b0cd",
   "metadata": {},
   "outputs": [
    {
     "data": {
      "text/plain": [
       "0.0001049041748046875"
      ]
     },
     "execution_count": 9,
     "metadata": {},
     "output_type": "execute_result"
    }
   ],
   "source": [
    "elasped_time"
   ]
  },
  {
   "cell_type": "code",
   "execution_count": 10,
   "id": "0be85390",
   "metadata": {},
   "outputs": [],
   "source": [
    "import timeit"
   ]
  },
  {
   "cell_type": "code",
   "execution_count": 12,
   "id": "b16a2f29",
   "metadata": {},
   "outputs": [],
   "source": [
    "stmt = '''\n",
    "func_one(100)\n",
    "'''"
   ]
  },
  {
   "cell_type": "code",
   "execution_count": 13,
   "id": "0c25dc37",
   "metadata": {},
   "outputs": [],
   "source": [
    "setup = '''\n",
    "def func_one(n):\n",
    "    return [str(num) for num in range(n)]\n",
    "'''"
   ]
  },
  {
   "cell_type": "code",
   "execution_count": 15,
   "id": "be9735d8",
   "metadata": {},
   "outputs": [
    {
     "data": {
      "text/plain": [
       "0.6795631669999977"
      ]
     },
     "execution_count": 15,
     "metadata": {},
     "output_type": "execute_result"
    }
   ],
   "source": [
    "timeit.timeit(stmt, setup, number= 100000)"
   ]
  },
  {
   "cell_type": "code",
   "execution_count": 17,
   "id": "b9531a1b",
   "metadata": {},
   "outputs": [],
   "source": [
    "stmt = '''\n",
    "func_two(100)\n",
    "'''\n",
    "\n",
    "setup = '''\n",
    "def func_two(n):\n",
    "    return [str(num) for num in range(n)]\n",
    "'''"
   ]
  },
  {
   "cell_type": "code",
   "execution_count": 18,
   "id": "2995148b",
   "metadata": {},
   "outputs": [
    {
     "data": {
      "text/plain": [
       "0.6815644170000041"
      ]
     },
     "execution_count": 18,
     "metadata": {},
     "output_type": "execute_result"
    }
   ],
   "source": [
    "timeit.timeit(stmt, setup, number= 100000)"
   ]
  },
  {
   "cell_type": "code",
   "execution_count": 21,
   "id": "f83cd6e0",
   "metadata": {},
   "outputs": [
    {
     "name": "stdout",
     "output_type": "stream",
     "text": [
      "6.56 µs ± 70.4 ns per loop (mean ± std. dev. of 7 runs, 100,000 loops each)\n"
     ]
    }
   ],
   "source": [
    "%%timeit\n",
    "func_one(100)"
   ]
  },
  {
   "cell_type": "code",
   "execution_count": 22,
   "id": "1a294887",
   "metadata": {},
   "outputs": [
    {
     "name": "stdout",
     "output_type": "stream",
     "text": [
      "5.7 µs ± 47.5 ns per loop (mean ± std. dev. of 7 runs, 100,000 loops each)\n"
     ]
    }
   ],
   "source": [
    "%%timeit\n",
    "func_two(100)"
   ]
  },
  {
   "cell_type": "code",
   "execution_count": 26,
   "id": "6343dbf0",
   "metadata": {},
   "outputs": [
    {
     "data": {
      "text/plain": [
       "[['0', '1', '2', '3', '4', '5', '6', '7', '8', '9'], ['0', '1', '2', '3']]"
      ]
     },
     "execution_count": 26,
     "metadata": {},
     "output_type": "execute_result"
    }
   ],
   "source": [
    "list(map(func_one, [10, 4]))"
   ]
  },
  {
   "cell_type": "code",
   "execution_count": 27,
   "id": "537b50d5",
   "metadata": {},
   "outputs": [],
   "source": [
    "f = open('fileone.txt', 'w+')"
   ]
  },
  {
   "cell_type": "code",
   "execution_count": null,
   "id": "718d6782",
   "metadata": {},
   "outputs": [],
   "source": []
  }
 ],
 "metadata": {
  "kernelspec": {
   "display_name": "Python 3 (ipykernel)",
   "language": "python",
   "name": "python3"
  },
  "language_info": {
   "codemirror_mode": {
    "name": "ipython",
    "version": 3
   },
   "file_extension": ".py",
   "mimetype": "text/x-python",
   "name": "python",
   "nbconvert_exporter": "python",
   "pygments_lexer": "ipython3",
   "version": "3.9.16"
  }
 },
 "nbformat": 4,
 "nbformat_minor": 5
}
