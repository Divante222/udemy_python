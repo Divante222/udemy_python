{
 "cells": [
  {
   "cell_type": "code",
   "execution_count": 1,
   "id": "42d8ad88",
   "metadata": {},
   "outputs": [],
   "source": [
    "text = \"The agent's phone number is 408-555-1234. Call soon!\""
   ]
  },
  {
   "cell_type": "code",
   "execution_count": 2,
   "id": "fec6bda7",
   "metadata": {},
   "outputs": [
    {
     "data": {
      "text/plain": [
       "True"
      ]
     },
     "execution_count": 2,
     "metadata": {},
     "output_type": "execute_result"
    }
   ],
   "source": [
    "'phone' in text"
   ]
  },
  {
   "cell_type": "code",
   "execution_count": 3,
   "id": "34bd4738",
   "metadata": {},
   "outputs": [],
   "source": [
    "import re"
   ]
  },
  {
   "cell_type": "code",
   "execution_count": 4,
   "id": "dce87683",
   "metadata": {},
   "outputs": [],
   "source": [
    "pattern = 'phone'"
   ]
  },
  {
   "cell_type": "code",
   "execution_count": 5,
   "id": "b3b9e838",
   "metadata": {},
   "outputs": [
    {
     "data": {
      "text/plain": [
       "<re.Match object; span=(12, 17), match='phone'>"
      ]
     },
     "execution_count": 5,
     "metadata": {},
     "output_type": "execute_result"
    }
   ],
   "source": [
    "re.search(pattern, text)"
   ]
  },
  {
   "cell_type": "code",
   "execution_count": 6,
   "id": "d521b75b",
   "metadata": {},
   "outputs": [],
   "source": [
    "pattern = \"NOT IN TEXT\""
   ]
  },
  {
   "cell_type": "code",
   "execution_count": 7,
   "id": "3e86795c",
   "metadata": {},
   "outputs": [],
   "source": [
    "re.search(pattern, text)"
   ]
  },
  {
   "cell_type": "code",
   "execution_count": 8,
   "id": "14069a09",
   "metadata": {},
   "outputs": [],
   "source": [
    "pattern = 'phone'"
   ]
  },
  {
   "cell_type": "code",
   "execution_count": 9,
   "id": "f54d9910",
   "metadata": {},
   "outputs": [],
   "source": [
    "match = re.search(pattern, text)"
   ]
  },
  {
   "cell_type": "code",
   "execution_count": 10,
   "id": "3d6a2b66",
   "metadata": {},
   "outputs": [
    {
     "data": {
      "text/plain": [
       "<re.Match object; span=(12, 17), match='phone'>"
      ]
     },
     "execution_count": 10,
     "metadata": {},
     "output_type": "execute_result"
    }
   ],
   "source": [
    "match"
   ]
  },
  {
   "cell_type": "code",
   "execution_count": 11,
   "id": "da46536a",
   "metadata": {},
   "outputs": [
    {
     "data": {
      "text/plain": [
       "(12, 17)"
      ]
     },
     "execution_count": 11,
     "metadata": {},
     "output_type": "execute_result"
    }
   ],
   "source": [
    "match.span()"
   ]
  },
  {
   "cell_type": "code",
   "execution_count": 12,
   "id": "5371884b",
   "metadata": {},
   "outputs": [
    {
     "data": {
      "text/plain": [
       "12"
      ]
     },
     "execution_count": 12,
     "metadata": {},
     "output_type": "execute_result"
    }
   ],
   "source": [
    "match.start()"
   ]
  },
  {
   "cell_type": "code",
   "execution_count": 13,
   "id": "c7ec4f19",
   "metadata": {},
   "outputs": [
    {
     "data": {
      "text/plain": [
       "17"
      ]
     },
     "execution_count": 13,
     "metadata": {},
     "output_type": "execute_result"
    }
   ],
   "source": [
    "match.end()"
   ]
  },
  {
   "cell_type": "code",
   "execution_count": 14,
   "id": "422905c2",
   "metadata": {},
   "outputs": [
    {
     "data": {
      "text/plain": [
       "0"
      ]
     },
     "execution_count": 14,
     "metadata": {},
     "output_type": "execute_result"
    }
   ],
   "source": [
    "match.pos"
   ]
  },
  {
   "cell_type": "code",
   "execution_count": 15,
   "id": "313a3c27",
   "metadata": {},
   "outputs": [],
   "source": [
    "text = 'my phone once, myphone twice'"
   ]
  },
  {
   "cell_type": "code",
   "execution_count": 16,
   "id": "2d832b63",
   "metadata": {},
   "outputs": [
    {
     "data": {
      "text/plain": [
       "<re.Match object; span=(3, 8), match='phone'>"
      ]
     },
     "execution_count": 16,
     "metadata": {},
     "output_type": "execute_result"
    }
   ],
   "source": [
    "re.search('phone', text)"
   ]
  },
  {
   "cell_type": "code",
   "execution_count": 18,
   "id": "d061e546",
   "metadata": {},
   "outputs": [],
   "source": [
    "matches = re.findall('phone', text)"
   ]
  },
  {
   "cell_type": "code",
   "execution_count": 19,
   "id": "3ee3648b",
   "metadata": {},
   "outputs": [
    {
     "data": {
      "text/plain": [
       "2"
      ]
     },
     "execution_count": 19,
     "metadata": {},
     "output_type": "execute_result"
    }
   ],
   "source": [
    "len(matches)"
   ]
  },
  {
   "cell_type": "code",
   "execution_count": 26,
   "id": "2a7e336e",
   "metadata": {},
   "outputs": [
    {
     "name": "stdout",
     "output_type": "stream",
     "text": [
      "(3, 8)\n",
      "<re.Match object; span=(3, 8), match='phone'>\n",
      "phone\n",
      "(17, 22)\n",
      "<re.Match object; span=(17, 22), match='phone'>\n",
      "phone\n"
     ]
    }
   ],
   "source": [
    "for match in re.finditer('phone', text):\n",
    "    print(match.span())\n",
    "    print(match)\n",
    "    print(match.group())"
   ]
  },
  {
   "cell_type": "code",
   "execution_count": 35,
   "id": "ec127995",
   "metadata": {},
   "outputs": [],
   "source": [
    "text = \"My phone number is 408-555-7777\""
   ]
  },
  {
   "cell_type": "code",
   "execution_count": 36,
   "id": "9581779d",
   "metadata": {},
   "outputs": [],
   "source": [
    "phone = re.search('408-555-1234', text)"
   ]
  },
  {
   "cell_type": "code",
   "execution_count": 37,
   "id": "6d51d506",
   "metadata": {},
   "outputs": [],
   "source": [
    "phone"
   ]
  },
  {
   "cell_type": "code",
   "execution_count": 42,
   "id": "ca140c68",
   "metadata": {},
   "outputs": [],
   "source": [
    "phone = re.search(r'\\d\\d\\d-\\d\\d\\d-\\d\\d\\d\\d', text)"
   ]
  },
  {
   "cell_type": "code",
   "execution_count": 43,
   "id": "998ac578",
   "metadata": {},
   "outputs": [
    {
     "data": {
      "text/plain": [
       "<re.Match object; span=(19, 31), match='408-555-7777'>"
      ]
     },
     "execution_count": 43,
     "metadata": {},
     "output_type": "execute_result"
    }
   ],
   "source": [
    "phone"
   ]
  },
  {
   "cell_type": "code",
   "execution_count": 44,
   "id": "c1a4a638",
   "metadata": {},
   "outputs": [],
   "source": [
    "phone = re.search(r'\\d{3}-\\d{3}-\\d{4}', text)"
   ]
  },
  {
   "cell_type": "code",
   "execution_count": 45,
   "id": "d8b2cdde",
   "metadata": {},
   "outputs": [
    {
     "data": {
      "text/plain": [
       "<re.Match object; span=(19, 31), match='408-555-7777'>"
      ]
     },
     "execution_count": 45,
     "metadata": {},
     "output_type": "execute_result"
    }
   ],
   "source": [
    "phone"
   ]
  },
  {
   "cell_type": "code",
   "execution_count": 47,
   "id": "abce2775",
   "metadata": {},
   "outputs": [],
   "source": [
    "phone_pattern = re.compile(r'(\\d{3})-(\\d{3})-(\\d{4})')"
   ]
  },
  {
   "cell_type": "code",
   "execution_count": 49,
   "id": "8cb26c27",
   "metadata": {},
   "outputs": [],
   "source": [
    "results = re.search(phone_pattern, text)"
   ]
  },
  {
   "cell_type": "code",
   "execution_count": 50,
   "id": "3132ad80",
   "metadata": {},
   "outputs": [
    {
     "data": {
      "text/plain": [
       "'408-555-7777'"
      ]
     },
     "execution_count": 50,
     "metadata": {},
     "output_type": "execute_result"
    }
   ],
   "source": [
    "results.group()"
   ]
  },
  {
   "cell_type": "code",
   "execution_count": 52,
   "id": "dc9a09c1",
   "metadata": {},
   "outputs": [
    {
     "data": {
      "text/plain": [
       "'408'"
      ]
     },
     "execution_count": 52,
     "metadata": {},
     "output_type": "execute_result"
    }
   ],
   "source": [
    "results.group(1)"
   ]
  },
  {
   "cell_type": "code",
   "execution_count": 53,
   "id": "0ce18147",
   "metadata": {},
   "outputs": [
    {
     "data": {
      "text/plain": [
       "'555'"
      ]
     },
     "execution_count": 53,
     "metadata": {},
     "output_type": "execute_result"
    }
   ],
   "source": [
    "results.group(2)"
   ]
  },
  {
   "cell_type": "code",
   "execution_count": 54,
   "id": "7283090e",
   "metadata": {},
   "outputs": [
    {
     "data": {
      "text/plain": [
       "'7777'"
      ]
     },
     "execution_count": 54,
     "metadata": {},
     "output_type": "execute_result"
    }
   ],
   "source": [
    "results.group(3)"
   ]
  },
  {
   "cell_type": "code",
   "execution_count": 55,
   "id": "9ce83c01",
   "metadata": {},
   "outputs": [
    {
     "ename": "IndexError",
     "evalue": "no such group",
     "output_type": "error",
     "traceback": [
      "\u001b[0;31m---------------------------------------------------------------------------\u001b[0m",
      "\u001b[0;31mIndexError\u001b[0m                                Traceback (most recent call last)",
      "Cell \u001b[0;32mIn[55], line 1\u001b[0m\n\u001b[0;32m----> 1\u001b[0m \u001b[43mresults\u001b[49m\u001b[38;5;241;43m.\u001b[39;49m\u001b[43mgroup\u001b[49m\u001b[43m(\u001b[49m\u001b[38;5;241;43m4\u001b[39;49m\u001b[43m)\u001b[49m\n",
      "\u001b[0;31mIndexError\u001b[0m: no such group"
     ]
    }
   ],
   "source": [
    "# results.group(4)"
   ]
  },
  {
   "cell_type": "code",
   "execution_count": 56,
   "id": "474fde83",
   "metadata": {},
   "outputs": [
    {
     "data": {
      "text/plain": [
       "<re.Match object; span=(4, 7), match='cat'>"
      ]
     },
     "execution_count": 56,
     "metadata": {},
     "output_type": "execute_result"
    }
   ],
   "source": [
    "re.search(r'cat|dog', 'The cat is here')"
   ]
  },
  {
   "cell_type": "code",
   "execution_count": 58,
   "id": "94228595",
   "metadata": {},
   "outputs": [
    {
     "data": {
      "text/plain": [
       "['cat', 'hat', 'sat']"
      ]
     },
     "execution_count": 58,
     "metadata": {},
     "output_type": "execute_result"
    }
   ],
   "source": [
    "re.findall(r\".at\", \"The cat and the hat sat there\")"
   ]
  },
  {
   "cell_type": "code",
   "execution_count": 60,
   "id": "0fb18c07",
   "metadata": {},
   "outputs": [
    {
     "data": {
      "text/plain": [
       "['at', 'at', 'at']"
      ]
     },
     "execution_count": 60,
     "metadata": {},
     "output_type": "execute_result"
    }
   ],
   "source": [
    "re.findall(r\"at\", \"The cat and the hat sat there\")"
   ]
  },
  {
   "cell_type": "code",
   "execution_count": 61,
   "id": "5b41cd22",
   "metadata": {},
   "outputs": [
    {
     "data": {
      "text/plain": [
       "['e cat', 'e hat']"
      ]
     },
     "execution_count": 61,
     "metadata": {},
     "output_type": "execute_result"
    }
   ],
   "source": [
    "re.findall(r\"...at\", \"The cat and the hat sat there\")"
   ]
  },
  {
   "cell_type": "markdown",
   "id": "eb9d7459",
   "metadata": {},
   "source": [
    "# looks through the start of a pattern"
   ]
  },
  {
   "cell_type": "code",
   "execution_count": 64,
   "id": "b94d1ca3",
   "metadata": {},
   "outputs": [
    {
     "data": {
      "text/plain": [
       "[]"
      ]
     },
     "execution_count": 64,
     "metadata": {},
     "output_type": "execute_result"
    }
   ],
   "source": [
    "re.findall(r'^\\d', '1 is a number')"
   ]
  },
  {
   "cell_type": "markdown",
   "id": "7f60790c",
   "metadata": {},
   "source": [
    "# looks at the end of a string"
   ]
  },
  {
   "cell_type": "code",
   "execution_count": 66,
   "id": "fd998393",
   "metadata": {},
   "outputs": [
    {
     "data": {
      "text/plain": [
       "['2']"
      ]
     },
     "execution_count": 66,
     "metadata": {},
     "output_type": "execute_result"
    }
   ],
   "source": [
    "re.findall(r'\\d$', '1 is a number2')"
   ]
  },
  {
   "cell_type": "markdown",
   "id": "bf680f5c",
   "metadata": {},
   "source": [
    "# excluding digits\n"
   ]
  },
  {
   "cell_type": "code",
   "execution_count": 67,
   "id": "4f8b9987",
   "metadata": {},
   "outputs": [],
   "source": [
    "phrase = 'there are 3 numbers 34 inside 5 this sentence'"
   ]
  },
  {
   "cell_type": "code",
   "execution_count": 72,
   "id": "29fb7bef",
   "metadata": {},
   "outputs": [],
   "source": [
    "pattern = r'[^\\d]+'"
   ]
  },
  {
   "cell_type": "code",
   "execution_count": 73,
   "id": "4a7032f7",
   "metadata": {},
   "outputs": [
    {
     "data": {
      "text/plain": [
       "['there are ', ' numbers ', ' inside ', ' this sentence']"
      ]
     },
     "execution_count": 73,
     "metadata": {},
     "output_type": "execute_result"
    }
   ],
   "source": [
    "re.findall(pattern, phrase)"
   ]
  },
  {
   "cell_type": "markdown",
   "id": "343650aa",
   "metadata": {},
   "source": [
    "# excluding and joining \n"
   ]
  },
  {
   "cell_type": "code",
   "execution_count": 74,
   "id": "30434bf9",
   "metadata": {},
   "outputs": [],
   "source": [
    "test_phrase = 'This is a string! But it has punctuation. How can we remove it?'"
   ]
  },
  {
   "cell_type": "code",
   "execution_count": 77,
   "id": "93f07e17",
   "metadata": {},
   "outputs": [],
   "source": [
    "clean = re.findall(r'[^!.?]+', test_phrase)"
   ]
  },
  {
   "cell_type": "code",
   "execution_count": 78,
   "id": "dbec3fe2",
   "metadata": {},
   "outputs": [
    {
     "data": {
      "text/plain": [
       "'This is a string But it has punctuation How can we remove it'"
      ]
     },
     "execution_count": 78,
     "metadata": {},
     "output_type": "execute_result"
    }
   ],
   "source": [
    "''.join(clean)"
   ]
  },
  {
   "cell_type": "code",
   "execution_count": null,
   "id": "147b86af",
   "metadata": {},
   "outputs": [],
   "source": []
  },
  {
   "cell_type": "code",
   "execution_count": null,
   "id": "0be802eb",
   "metadata": {},
   "outputs": [],
   "source": []
  },
  {
   "cell_type": "code",
   "execution_count": 79,
   "id": "ddf7afd6",
   "metadata": {},
   "outputs": [],
   "source": [
    "text = 'Only find the hyphen-words in this sentence. But you do not know how long-ish they are'"
   ]
  },
  {
   "cell_type": "code",
   "execution_count": 81,
   "id": "d8509a89",
   "metadata": {},
   "outputs": [],
   "source": [
    "pattern = r'[\\w]+'"
   ]
  },
  {
   "cell_type": "code",
   "execution_count": 82,
   "id": "bea296bd",
   "metadata": {},
   "outputs": [
    {
     "data": {
      "text/plain": [
       "['Only',\n",
       " 'find',\n",
       " 'the',\n",
       " 'hyphen',\n",
       " 'words',\n",
       " 'in',\n",
       " 'this',\n",
       " 'sentence',\n",
       " 'But',\n",
       " 'you',\n",
       " 'do',\n",
       " 'not',\n",
       " 'know',\n",
       " 'how',\n",
       " 'long',\n",
       " 'ish',\n",
       " 'they',\n",
       " 'are']"
      ]
     },
     "execution_count": 82,
     "metadata": {},
     "output_type": "execute_result"
    }
   ],
   "source": [
    "re.findall(pattern, text)"
   ]
  },
  {
   "cell_type": "code",
   "execution_count": 83,
   "id": "cf9e5492",
   "metadata": {},
   "outputs": [],
   "source": [
    "pattern = r'[\\w]+-[\\w]+'"
   ]
  },
  {
   "cell_type": "code",
   "execution_count": 84,
   "id": "29c613a9",
   "metadata": {},
   "outputs": [
    {
     "data": {
      "text/plain": [
       "['hyphen-words', 'long-ish']"
      ]
     },
     "execution_count": 84,
     "metadata": {},
     "output_type": "execute_result"
    }
   ],
   "source": [
    "re.findall(pattern, text)"
   ]
  },
  {
   "cell_type": "code",
   "execution_count": 85,
   "id": "2fad09f1",
   "metadata": {},
   "outputs": [],
   "source": [
    "text = 'Hello, would you like some catfish?'\n",
    "texttwo = \"Hello, would you like to take a catnap?\"\n",
    "textthree = \"Hello, have you seen this caterpillar?\""
   ]
  },
  {
   "cell_type": "code",
   "execution_count": 88,
   "id": "ea0d4e05",
   "metadata": {},
   "outputs": [
    {
     "data": {
      "text/plain": [
       "<re.Match object; span=(32, 38), match='catnap'>"
      ]
     },
     "execution_count": 88,
     "metadata": {},
     "output_type": "execute_result"
    }
   ],
   "source": [
    "re.search(r'cat(fish|nap|claw|erpillar)', texttwo)"
   ]
  },
  {
   "cell_type": "code",
   "execution_count": 89,
   "id": "5bb55ebb",
   "metadata": {},
   "outputs": [
    {
     "data": {
      "text/plain": [
       "<re.Match object; span=(26, 37), match='caterpillar'>"
      ]
     },
     "execution_count": 89,
     "metadata": {},
     "output_type": "execute_result"
    }
   ],
   "source": [
    "re.search(r'cat(fish|nap|claw|erpillar)', textthree)"
   ]
  },
  {
   "cell_type": "code",
   "execution_count": 90,
   "id": "1c00d379",
   "metadata": {},
   "outputs": [
    {
     "data": {
      "text/plain": [
       "<re.Match object; span=(27, 34), match='catfish'>"
      ]
     },
     "execution_count": 90,
     "metadata": {},
     "output_type": "execute_result"
    }
   ],
   "source": [
    "re.search(r'cat(fish|nap|claw|erpillar)', text)"
   ]
  },
  {
   "cell_type": "code",
   "execution_count": null,
   "id": "c2066741",
   "metadata": {},
   "outputs": [],
   "source": []
  }
 ],
 "metadata": {
  "kernelspec": {
   "display_name": "Python 3 (ipykernel)",
   "language": "python",
   "name": "python3"
  },
  "language_info": {
   "codemirror_mode": {
    "name": "ipython",
    "version": 3
   },
   "file_extension": ".py",
   "mimetype": "text/x-python",
   "name": "python",
   "nbconvert_exporter": "python",
   "pygments_lexer": "ipython3",
   "version": "3.9.16"
  }
 },
 "nbformat": 4,
 "nbformat_minor": 5
}
