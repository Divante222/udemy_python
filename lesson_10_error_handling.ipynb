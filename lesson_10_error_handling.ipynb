{
 "cells": [
  {
   "cell_type": "code",
   "execution_count": 3,
   "id": "21eb9b33",
   "metadata": {},
   "outputs": [],
   "source": [
    "def add(n1, n2):\n",
    "    print(n1+ n2)"
   ]
  },
  {
   "cell_type": "code",
   "execution_count": 4,
   "id": "1d671123",
   "metadata": {},
   "outputs": [
    {
     "name": "stdout",
     "output_type": "stream",
     "text": [
      "30\n"
     ]
    }
   ],
   "source": [
    "add(10,20)"
   ]
  },
  {
   "cell_type": "code",
   "execution_count": 5,
   "id": "0cc235e1",
   "metadata": {},
   "outputs": [],
   "source": [
    "number1 = 10"
   ]
  },
  {
   "cell_type": "code",
   "execution_count": 6,
   "id": "0d308f14",
   "metadata": {},
   "outputs": [
    {
     "name": "stdout",
     "output_type": "stream",
     "text": [
      "please provide a number20\n"
     ]
    }
   ],
   "source": [
    "number2 = input('please provide a number')"
   ]
  },
  {
   "cell_type": "code",
   "execution_count": 9,
   "id": "0afc92b5",
   "metadata": {},
   "outputs": [
    {
     "ename": "TypeError",
     "evalue": "unsupported operand type(s) for +: 'int' and 'str'",
     "output_type": "error",
     "traceback": [
      "\u001b[0;31m---------------------------------------------------------------------------\u001b[0m",
      "\u001b[0;31mTypeError\u001b[0m                                 Traceback (most recent call last)",
      "Cell \u001b[0;32mIn[9], line 1\u001b[0m\n\u001b[0;32m----> 1\u001b[0m \u001b[43madd\u001b[49m\u001b[43m(\u001b[49m\u001b[43mnumber1\u001b[49m\u001b[43m,\u001b[49m\u001b[43m \u001b[49m\u001b[43mnumber2\u001b[49m\u001b[43m)\u001b[49m\n\u001b[1;32m      2\u001b[0m \u001b[38;5;28mprint\u001b[39m(\u001b[38;5;124m'\u001b[39m\u001b[38;5;124msomething happened!\u001b[39m\u001b[38;5;124m'\u001b[39m)\n",
      "Cell \u001b[0;32mIn[3], line 2\u001b[0m, in \u001b[0;36madd\u001b[0;34m(n1, n2)\u001b[0m\n\u001b[1;32m      1\u001b[0m \u001b[38;5;28;01mdef\u001b[39;00m \u001b[38;5;21madd\u001b[39m(n1, n2):\n\u001b[0;32m----> 2\u001b[0m     \u001b[38;5;28mprint\u001b[39m(\u001b[43mn1\u001b[49m\u001b[38;5;241;43m+\u001b[39;49m\u001b[43m \u001b[49m\u001b[43mn2\u001b[49m)\n",
      "\u001b[0;31mTypeError\u001b[0m: unsupported operand type(s) for +: 'int' and 'str'"
     ]
    }
   ],
   "source": [
    "add(number1, number2)\n",
    "print('something happened!')"
   ]
  },
  {
   "cell_type": "code",
   "execution_count": 15,
   "id": "ec92217c",
   "metadata": {},
   "outputs": [
    {
     "name": "stdout",
     "output_type": "stream",
     "text": [
      "add went well\n",
      "20\n"
     ]
    }
   ],
   "source": [
    "try:\n",
    "    #want to attempt this code\n",
    "    # it may have an error\n",
    "    result = 10+10\n",
    "except:\n",
    "    print(\"Hey it looks like you arent adding correctly!\")\n",
    "    \n",
    "else:\n",
    "    print('add went well')\n",
    "    print(result)"
   ]
  },
  {
   "cell_type": "code",
   "execution_count": 16,
   "id": "bb4db513",
   "metadata": {},
   "outputs": [
    {
     "data": {
      "text/plain": [
       "20"
      ]
     },
     "execution_count": 16,
     "metadata": {},
     "output_type": "execute_result"
    }
   ],
   "source": [
    "result"
   ]
  },
  {
   "cell_type": "code",
   "execution_count": 21,
   "id": "91a38919",
   "metadata": {},
   "outputs": [
    {
     "name": "stdout",
     "output_type": "stream",
     "text": [
      "I always run\n",
      "hello\n"
     ]
    }
   ],
   "source": [
    "try:\n",
    "    f = open('testfile', 'w') \n",
    "    f.write('write a test line to this file')\n",
    "except TypeError:\n",
    "    print('there was a typeError')\n",
    "# except OSError:\n",
    "#     print('Hey you have an os error')\n",
    "except:\n",
    "    print('all other exceptions')\n",
    "finally:\n",
    "    print('I always run')\n",
    "    \n",
    "print('hello')"
   ]
  },
  {
   "cell_type": "code",
   "execution_count": 36,
   "id": "12f10e5f",
   "metadata": {},
   "outputs": [],
   "source": [
    "\n",
    "def ask_for_int():\n",
    "    while True:\n",
    "        try:\n",
    "            result = int(input(\"please provide number: \"))\n",
    "        except:\n",
    "            print('whoops that is not a number')\n",
    "            continue\n",
    "        else:\n",
    "            print('yes thank you')\n",
    "            break\n",
    "        finally:\n",
    "            print('Im going to ask you again!')\n",
    "            "
   ]
  },
  {
   "cell_type": "code",
   "execution_count": 37,
   "id": "5b5f5f6f",
   "metadata": {},
   "outputs": [
    {
     "name": "stdout",
     "output_type": "stream",
     "text": [
      "please provide number: 1\n",
      "yes thank you\n",
      "Im going to ask you again!\n"
     ]
    }
   ],
   "source": [
    "ask_for_int()"
   ]
  },
  {
   "cell_type": "code",
   "execution_count": 35,
   "id": "96198d31",
   "metadata": {},
   "outputs": [
    {
     "name": "stdout",
     "output_type": "stream",
     "text": [
      "please provide number: q\n",
      "whoops that is not a number\n",
      "End of try/except finally\n",
      "I will always run at the end\n",
      "please provide number: i\n",
      "whoops that is not a number\n",
      "End of try/except finally\n",
      "I will always run at the end\n",
      "please provide number: pkk\n",
      "whoops that is not a number\n",
      "End of try/except finally\n",
      "I will always run at the end\n",
      "please provide number: lplp\n",
      "whoops that is not a number\n",
      "End of try/except finally\n",
      "I will always run at the end\n",
      "please provide number: ;\n",
      "whoops that is not a number\n",
      "End of try/except finally\n",
      "I will always run at the end\n",
      "please provide number: '\n",
      "whoops that is not a number\n",
      "End of try/except finally\n",
      "I will always run at the end\n",
      "please provide number: 4\n",
      "yes thank you\n",
      "End of try/except finally\n",
      "I will always run at the end\n"
     ]
    }
   ],
   "source": [
    "ask_for_int()"
   ]
  },
  {
   "cell_type": "code",
   "execution_count": null,
   "id": "bd5adae9",
   "metadata": {},
   "outputs": [],
   "source": []
  }
 ],
 "metadata": {
  "kernelspec": {
   "display_name": "Python 3 (ipykernel)",
   "language": "python",
   "name": "python3"
  },
  "language_info": {
   "codemirror_mode": {
    "name": "ipython",
    "version": 3
   },
   "file_extension": ".py",
   "mimetype": "text/x-python",
   "name": "python",
   "nbconvert_exporter": "python",
   "pygments_lexer": "ipython3",
   "version": "3.9.16"
  }
 },
 "nbformat": 4,
 "nbformat_minor": 5
}
