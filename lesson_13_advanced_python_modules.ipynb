{
 "cells": [
  {
   "cell_type": "code",
   "execution_count": 1,
   "id": "a66ad29a",
   "metadata": {},
   "outputs": [],
   "source": [
    "from collections import Counter"
   ]
  },
  {
   "cell_type": "code",
   "execution_count": 2,
   "id": "cf4c4db2",
   "metadata": {},
   "outputs": [],
   "source": [
    "mylist = [1,1,1,1,1,1,1,1,2,2,2,2,2,3,3,3,3,3,3]"
   ]
  },
  {
   "cell_type": "code",
   "execution_count": 3,
   "id": "dd0e12b0",
   "metadata": {},
   "outputs": [
    {
     "data": {
      "text/plain": [
       "Counter({1: 8, 2: 5, 3: 6})"
      ]
     },
     "execution_count": 3,
     "metadata": {},
     "output_type": "execute_result"
    }
   ],
   "source": [
    "Counter(mylist)"
   ]
  },
  {
   "cell_type": "code",
   "execution_count": 4,
   "id": "de179816",
   "metadata": {},
   "outputs": [
    {
     "data": {
      "text/plain": [
       "{1: 8, 2: 5, 3: 6}"
      ]
     },
     "execution_count": 4,
     "metadata": {},
     "output_type": "execute_result"
    }
   ],
   "source": [
    "dict(Counter(mylist))"
   ]
  },
  {
   "cell_type": "code",
   "execution_count": 5,
   "id": "c0ca6208",
   "metadata": {},
   "outputs": [
    {
     "data": {
      "text/plain": [
       "Counter({'a': 6, 'b': 3, 's': 5, 'h': 3, 'k': 1, 'j': 1})"
      ]
     },
     "execution_count": 5,
     "metadata": {},
     "output_type": "execute_result"
    }
   ],
   "source": [
    "Counter('aaaaaabbbsshsshshkj')"
   ]
  },
  {
   "cell_type": "code",
   "execution_count": 6,
   "id": "685d757c",
   "metadata": {},
   "outputs": [],
   "source": [
    "sentence =  \"How many times does each word show up in this sentence with a word\""
   ]
  },
  {
   "cell_type": "code",
   "execution_count": 7,
   "id": "21ebf6cd",
   "metadata": {},
   "outputs": [
    {
     "data": {
      "text/plain": [
       "Counter({'How': 1,\n",
       "         'many': 1,\n",
       "         'times': 1,\n",
       "         'does': 1,\n",
       "         'each': 1,\n",
       "         'word': 2,\n",
       "         'show': 1,\n",
       "         'up': 1,\n",
       "         'in': 1,\n",
       "         'this': 1,\n",
       "         'sentence': 1,\n",
       "         'with': 1,\n",
       "         'a': 1})"
      ]
     },
     "execution_count": 7,
     "metadata": {},
     "output_type": "execute_result"
    }
   ],
   "source": [
    "Counter(sentence.split())"
   ]
  },
  {
   "cell_type": "code",
   "execution_count": 8,
   "id": "539b2f09",
   "metadata": {},
   "outputs": [
    {
     "data": {
      "text/plain": [
       "Counter({'how': 1,\n",
       "         'many': 1,\n",
       "         'times': 1,\n",
       "         'does': 1,\n",
       "         'each': 1,\n",
       "         'word': 2,\n",
       "         'show': 1,\n",
       "         'up': 1,\n",
       "         'in': 1,\n",
       "         'this': 1,\n",
       "         'sentence': 1,\n",
       "         'with': 1,\n",
       "         'a': 1})"
      ]
     },
     "execution_count": 8,
     "metadata": {},
     "output_type": "execute_result"
    }
   ],
   "source": [
    "Counter(sentence.lower().split())"
   ]
  },
  {
   "cell_type": "code",
   "execution_count": 9,
   "id": "8038bb16",
   "metadata": {},
   "outputs": [],
   "source": [
    "letters = 'aaaabbbbbcccccccddddddddddd'"
   ]
  },
  {
   "cell_type": "code",
   "execution_count": 10,
   "id": "1b5c7109",
   "metadata": {},
   "outputs": [],
   "source": [
    "c = Counter(letters)"
   ]
  },
  {
   "cell_type": "code",
   "execution_count": 11,
   "id": "52196e6b",
   "metadata": {},
   "outputs": [
    {
     "data": {
      "text/plain": [
       "Counter({'a': 4, 'b': 5, 'c': 7, 'd': 11})"
      ]
     },
     "execution_count": 11,
     "metadata": {},
     "output_type": "execute_result"
    }
   ],
   "source": [
    "c"
   ]
  },
  {
   "cell_type": "code",
   "execution_count": 12,
   "id": "6a32f384",
   "metadata": {},
   "outputs": [
    {
     "data": {
      "text/plain": [
       "dict_keys(['a', 'b', 'c', 'd'])"
      ]
     },
     "execution_count": 12,
     "metadata": {},
     "output_type": "execute_result"
    }
   ],
   "source": [
    "c.keys()"
   ]
  },
  {
   "cell_type": "code",
   "execution_count": 13,
   "id": "d742e23d",
   "metadata": {},
   "outputs": [
    {
     "data": {
      "text/plain": [
       "[('d', 11), ('c', 7), ('b', 5), ('a', 4)]"
      ]
     },
     "execution_count": 13,
     "metadata": {},
     "output_type": "execute_result"
    }
   ],
   "source": [
    "c.most_common()"
   ]
  },
  {
   "cell_type": "code",
   "execution_count": 14,
   "id": "c2abb95e",
   "metadata": {},
   "outputs": [
    {
     "data": {
      "text/plain": [
       "[('d', 11), ('c', 7)]"
      ]
     },
     "execution_count": 14,
     "metadata": {},
     "output_type": "execute_result"
    }
   ],
   "source": [
    "c.most_common(2)"
   ]
  },
  {
   "cell_type": "code",
   "execution_count": 15,
   "id": "22b9cbe1",
   "metadata": {},
   "outputs": [
    {
     "data": {
      "text/plain": [
       "[('d', 11), ('c', 7), ('b', 5)]"
      ]
     },
     "execution_count": 15,
     "metadata": {},
     "output_type": "execute_result"
    }
   ],
   "source": [
    "c.most_common(3)"
   ]
  },
  {
   "cell_type": "markdown",
   "id": "70a68cdd",
   "metadata": {},
   "source": [
    "# gets a list of all the keys"
   ]
  },
  {
   "cell_type": "code",
   "execution_count": 16,
   "id": "ab53a6eb",
   "metadata": {},
   "outputs": [
    {
     "data": {
      "text/plain": [
       "['a', 'b', 'c', 'd']"
      ]
     },
     "execution_count": 16,
     "metadata": {},
     "output_type": "execute_result"
    }
   ],
   "source": [
    "list(c)"
   ]
  },
  {
   "cell_type": "code",
   "execution_count": 17,
   "id": "7f393d54",
   "metadata": {},
   "outputs": [],
   "source": [
    "from collections import defaultdict"
   ]
  },
  {
   "cell_type": "code",
   "execution_count": 18,
   "id": "b89f2afa",
   "metadata": {},
   "outputs": [],
   "source": [
    "d = {'a':10}"
   ]
  },
  {
   "cell_type": "code",
   "execution_count": 19,
   "id": "06b16744",
   "metadata": {},
   "outputs": [
    {
     "data": {
      "text/plain": [
       "10"
      ]
     },
     "execution_count": 19,
     "metadata": {},
     "output_type": "execute_result"
    }
   ],
   "source": [
    "d['a']"
   ]
  },
  {
   "cell_type": "code",
   "execution_count": 20,
   "id": "7cb0fb5b",
   "metadata": {},
   "outputs": [],
   "source": [
    "# d['Wrong']"
   ]
  },
  {
   "cell_type": "markdown",
   "id": "ce21859c",
   "metadata": {},
   "source": [
    "# makes the values a zero if you try and input the wrong key"
   ]
  },
  {
   "cell_type": "code",
   "execution_count": 21,
   "id": "cfb052c3",
   "metadata": {},
   "outputs": [],
   "source": [
    "d = defaultdict(lambda: 0)"
   ]
  },
  {
   "cell_type": "code",
   "execution_count": 22,
   "id": "cc85a64b",
   "metadata": {},
   "outputs": [
    {
     "data": {
      "text/plain": [
       "defaultdict(<function __main__.<lambda>()>, {})"
      ]
     },
     "execution_count": 22,
     "metadata": {},
     "output_type": "execute_result"
    }
   ],
   "source": [
    "d"
   ]
  },
  {
   "cell_type": "code",
   "execution_count": 23,
   "id": "fb23ea7c",
   "metadata": {},
   "outputs": [],
   "source": [
    "d['correct'] = 100"
   ]
  },
  {
   "cell_type": "code",
   "execution_count": 24,
   "id": "4828a912",
   "metadata": {},
   "outputs": [
    {
     "data": {
      "text/plain": [
       "100"
      ]
     },
     "execution_count": 24,
     "metadata": {},
     "output_type": "execute_result"
    }
   ],
   "source": [
    "d['correct']"
   ]
  },
  {
   "cell_type": "code",
   "execution_count": 25,
   "id": "db7c6395",
   "metadata": {},
   "outputs": [
    {
     "data": {
      "text/plain": [
       "0"
      ]
     },
     "execution_count": 25,
     "metadata": {},
     "output_type": "execute_result"
    }
   ],
   "source": [
    "d['Wrong key']"
   ]
  },
  {
   "cell_type": "code",
   "execution_count": 26,
   "id": "54f50e93",
   "metadata": {},
   "outputs": [
    {
     "data": {
      "text/plain": [
       "defaultdict(<function __main__.<lambda>()>, {'correct': 100, 'Wrong key': 0})"
      ]
     },
     "execution_count": 26,
     "metadata": {},
     "output_type": "execute_result"
    }
   ],
   "source": [
    "d"
   ]
  },
  {
   "cell_type": "code",
   "execution_count": 27,
   "id": "1528e8e8",
   "metadata": {},
   "outputs": [
    {
     "data": {
      "text/plain": [
       "dict_items([('correct', 100), ('Wrong key', 0)])"
      ]
     },
     "execution_count": 27,
     "metadata": {},
     "output_type": "execute_result"
    }
   ],
   "source": [
    "d.items()"
   ]
  },
  {
   "cell_type": "code",
   "execution_count": 28,
   "id": "8fd51593",
   "metadata": {},
   "outputs": [],
   "source": [
    "mytuple = (10, 20, 30)"
   ]
  },
  {
   "cell_type": "code",
   "execution_count": 29,
   "id": "3670496d",
   "metadata": {},
   "outputs": [
    {
     "data": {
      "text/plain": [
       "10"
      ]
     },
     "execution_count": 29,
     "metadata": {},
     "output_type": "execute_result"
    }
   ],
   "source": [
    "mytuple[0]"
   ]
  },
  {
   "cell_type": "markdown",
   "id": "9db4b8e3",
   "metadata": {},
   "source": [
    "# mix between tuple and class object"
   ]
  },
  {
   "cell_type": "code",
   "execution_count": 30,
   "id": "669925ac",
   "metadata": {},
   "outputs": [],
   "source": [
    "from collections import namedtuple"
   ]
  },
  {
   "cell_type": "code",
   "execution_count": 31,
   "id": "4cf2ed1b",
   "metadata": {},
   "outputs": [],
   "source": [
    "Dog = namedtuple('Dog', ['age', 'breed','name'])"
   ]
  },
  {
   "cell_type": "code",
   "execution_count": 32,
   "id": "ce368689",
   "metadata": {},
   "outputs": [
    {
     "data": {
      "text/plain": [
       "__main__.Dog"
      ]
     },
     "execution_count": 32,
     "metadata": {},
     "output_type": "execute_result"
    }
   ],
   "source": [
    "Dog"
   ]
  },
  {
   "cell_type": "code",
   "execution_count": 33,
   "id": "52008e38",
   "metadata": {},
   "outputs": [],
   "source": [
    "sammy = Dog(age=5, breed='Huskie', name = 'sammie')"
   ]
  },
  {
   "cell_type": "code",
   "execution_count": 34,
   "id": "87353154",
   "metadata": {},
   "outputs": [
    {
     "data": {
      "text/plain": [
       "Dog(age=5, breed='Huskie', name='sammie')"
      ]
     },
     "execution_count": 34,
     "metadata": {},
     "output_type": "execute_result"
    }
   ],
   "source": [
    "sammy"
   ]
  },
  {
   "cell_type": "code",
   "execution_count": 35,
   "id": "f8233d01",
   "metadata": {},
   "outputs": [
    {
     "data": {
      "text/plain": [
       "5"
      ]
     },
     "execution_count": 35,
     "metadata": {},
     "output_type": "execute_result"
    }
   ],
   "source": [
    "sammy.age"
   ]
  },
  {
   "cell_type": "code",
   "execution_count": 36,
   "id": "65d7ab11",
   "metadata": {},
   "outputs": [
    {
     "data": {
      "text/plain": [
       "'Huskie'"
      ]
     },
     "execution_count": 36,
     "metadata": {},
     "output_type": "execute_result"
    }
   ],
   "source": [
    "sammy.breed"
   ]
  },
  {
   "cell_type": "code",
   "execution_count": 37,
   "id": "1a8bd7b3",
   "metadata": {},
   "outputs": [
    {
     "data": {
      "text/plain": [
       "'sammie'"
      ]
     },
     "execution_count": 37,
     "metadata": {},
     "output_type": "execute_result"
    }
   ],
   "source": [
    "sammy.name"
   ]
  },
  {
   "cell_type": "code",
   "execution_count": 38,
   "id": "a6def9ac",
   "metadata": {},
   "outputs": [
    {
     "data": {
      "text/plain": [
       "5"
      ]
     },
     "execution_count": 38,
     "metadata": {},
     "output_type": "execute_result"
    }
   ],
   "source": [
    "sammy[0]"
   ]
  },
  {
   "cell_type": "code",
   "execution_count": null,
   "id": "c855c131",
   "metadata": {},
   "outputs": [],
   "source": []
  },
  {
   "cell_type": "code",
   "execution_count": null,
   "id": "8b132dc7",
   "metadata": {},
   "outputs": [],
   "source": []
  },
  {
   "cell_type": "code",
   "execution_count": null,
   "id": "7e87a694",
   "metadata": {},
   "outputs": [],
   "source": []
  },
  {
   "cell_type": "code",
   "execution_count": null,
   "id": "b5722e91",
   "metadata": {},
   "outputs": [],
   "source": []
  },
  {
   "cell_type": "code",
   "execution_count": 39,
   "id": "0124202d",
   "metadata": {},
   "outputs": [
    {
     "data": {
      "text/plain": [
       "'/Users/divante/codeup-data-science/udemy_python'"
      ]
     },
     "execution_count": 39,
     "metadata": {},
     "output_type": "execute_result"
    }
   ],
   "source": [
    "pwd"
   ]
  },
  {
   "cell_type": "code",
   "execution_count": 40,
   "id": "64e57805",
   "metadata": {},
   "outputs": [],
   "source": [
    "f = open('practice.txt', 'w+')\n",
    "f.write('this is a test string')\n",
    "f.close()"
   ]
  },
  {
   "cell_type": "code",
   "execution_count": 41,
   "id": "15e9aa62",
   "metadata": {},
   "outputs": [],
   "source": [
    "import os"
   ]
  },
  {
   "cell_type": "code",
   "execution_count": 42,
   "id": "dc1a5d4c",
   "metadata": {},
   "outputs": [
    {
     "data": {
      "text/plain": [
       "'/Users/divante/codeup-data-science/udemy_python'"
      ]
     },
     "execution_count": 42,
     "metadata": {},
     "output_type": "execute_result"
    }
   ],
   "source": [
    "os.getcwd()"
   ]
  },
  {
   "cell_type": "code",
   "execution_count": 43,
   "id": "6edc6500",
   "metadata": {},
   "outputs": [
    {
     "data": {
      "text/plain": [
       "['lesson_7_neststed_statements_and_scope.ipynb',\n",
       " 'test_cap.py',\n",
       " '04-OOP Challenge.ipynb',\n",
       " 'lesson_10_error_handling.ipynb',\n",
       " 'lesson_5_methods.ipynb',\n",
       " 'dkfjsklfjlkas.txt',\n",
       " 'lesson_6_lambda_map_and_filter.ipynb',\n",
       " '07-Statements Assessment Test.ipynb',\n",
       " 'cap.py',\n",
       " 'practice.txt',\n",
       " 'my_new_file.txt',\n",
       " 'lesson_13_generators.ipynb',\n",
       " 'lesson_4_python_statements.ipynb',\n",
       " '__pycache__',\n",
       " 'lesson_11_milestone_prep.ipynb',\n",
       " 'lesson_2_working_with_files.ipynb',\n",
       " 'blackjack_game.ipynb',\n",
       " 'lesson_12_decorators.ipynb',\n",
       " 'tic_tac_toe_capstone.ipynb',\n",
       " '02-Errors and Exceptions Homework.ipynb',\n",
       " 'lesson_13_advanced_python_modules.ipynb',\n",
       " 'lesson_3_operators.ipynb',\n",
       " '03-Function Practice Exercises.ipynb',\n",
       " 'myfile.txt',\n",
       " '.ipynb_checkpoints',\n",
       " '09-Objects and Data Structures Assessment Test.ipynb',\n",
       " '02-Object Oriented Programming Homework.ipynb',\n",
       " '.git',\n",
       " 'testfile',\n",
       " '08-Functions and Methods Homework.ipynb',\n",
       " 'lesson_8_tic_tac_toe.ipynb',\n",
       " '02-Iterators and Generators Homework.ipynb',\n",
       " 'lesson_1_dtypes.ipynb',\n",
       " 'lesson_9_object_oriented_programming_classes.ipynb']"
      ]
     },
     "execution_count": 43,
     "metadata": {},
     "output_type": "execute_result"
    }
   ],
   "source": [
    "os.listdir()"
   ]
  },
  {
   "cell_type": "code",
   "execution_count": 44,
   "id": "ad7d2246",
   "metadata": {},
   "outputs": [
    {
     "data": {
      "text/plain": [
       "['.localized', 'Shared', 'divante']"
      ]
     },
     "execution_count": 44,
     "metadata": {},
     "output_type": "execute_result"
    }
   ],
   "source": [
    "os.listdir('/Users/')"
   ]
  },
  {
   "cell_type": "markdown",
   "id": "e75e9ec7",
   "metadata": {},
   "source": [
    "# move files to different locations"
   ]
  },
  {
   "cell_type": "code",
   "execution_count": 45,
   "id": "5c52f523",
   "metadata": {},
   "outputs": [],
   "source": [
    "import shutil"
   ]
  },
  {
   "cell_type": "code",
   "execution_count": 46,
   "id": "993cd9c2",
   "metadata": {},
   "outputs": [
    {
     "ename": "Error",
     "evalue": "Destination path '/Users/divante/practice.txt' already exists",
     "output_type": "error",
     "traceback": [
      "\u001b[0;31m---------------------------------------------------------------------------\u001b[0m",
      "\u001b[0;31mError\u001b[0m                                     Traceback (most recent call last)",
      "Cell \u001b[0;32mIn[46], line 1\u001b[0m\n\u001b[0;32m----> 1\u001b[0m \u001b[43mshutil\u001b[49m\u001b[38;5;241;43m.\u001b[39;49m\u001b[43mmove\u001b[49m\u001b[43m(\u001b[49m\u001b[38;5;124;43m'\u001b[39;49m\u001b[38;5;124;43mpractice.txt\u001b[39;49m\u001b[38;5;124;43m'\u001b[39;49m\u001b[43m,\u001b[49m\u001b[43m \u001b[49m\u001b[38;5;124;43m'\u001b[39;49m\u001b[38;5;124;43m/Users/divante\u001b[39;49m\u001b[38;5;124;43m'\u001b[39;49m\u001b[43m)\u001b[49m\n",
      "File \u001b[0;32m/opt/homebrew/anaconda3/lib/python3.9/shutil.py:823\u001b[0m, in \u001b[0;36mmove\u001b[0;34m(src, dst, copy_function)\u001b[0m\n\u001b[1;32m    820\u001b[0m     real_dst \u001b[38;5;241m=\u001b[39m os\u001b[38;5;241m.\u001b[39mpath\u001b[38;5;241m.\u001b[39mjoin(dst, _basename(src))\n\u001b[1;32m    822\u001b[0m     \u001b[38;5;28;01mif\u001b[39;00m os\u001b[38;5;241m.\u001b[39mpath\u001b[38;5;241m.\u001b[39mexists(real_dst):\n\u001b[0;32m--> 823\u001b[0m         \u001b[38;5;28;01mraise\u001b[39;00m Error(\u001b[38;5;124m\"\u001b[39m\u001b[38;5;124mDestination path \u001b[39m\u001b[38;5;124m'\u001b[39m\u001b[38;5;132;01m%s\u001b[39;00m\u001b[38;5;124m'\u001b[39m\u001b[38;5;124m already exists\u001b[39m\u001b[38;5;124m\"\u001b[39m \u001b[38;5;241m%\u001b[39m real_dst)\n\u001b[1;32m    824\u001b[0m \u001b[38;5;28;01mtry\u001b[39;00m:\n\u001b[1;32m    825\u001b[0m     os\u001b[38;5;241m.\u001b[39mrename(src, real_dst)\n",
      "\u001b[0;31mError\u001b[0m: Destination path '/Users/divante/practice.txt' already exists"
     ]
    }
   ],
   "source": [
    "shutil.move('practice.txt', '/Users/divante')"
   ]
  },
  {
   "cell_type": "code",
   "execution_count": 47,
   "id": "2a81b101",
   "metadata": {},
   "outputs": [
    {
     "data": {
      "text/plain": [
       "['.config',\n",
       " 'Music',\n",
       " '.DS_Store',\n",
       " 'nltk_data',\n",
       " '.CFUserTextEncoding',\n",
       " 'python',\n",
       " '100-pandas-puzzles.ipynb',\n",
       " 'Untitled.ipynb',\n",
       " '.vscode-cli',\n",
       " '.zshrc',\n",
       " 'Pictures',\n",
       " '.zprofile',\n",
       " 'practice.txt',\n",
       " '.zsh_history',\n",
       " '.ipython',\n",
       " 'Desktop',\n",
       " 'Library',\n",
       " '.matplotlib',\n",
       " '.lesshst',\n",
       " 'seaborn-data',\n",
       " '.pgadmin',\n",
       " '.gitignore_global',\n",
       " '.wdm',\n",
       " 'Public',\n",
       " '.vscode-R',\n",
       " '.ssh',\n",
       " 'Movies',\n",
       " '.Trash',\n",
       " '.ipynb_checkpoints',\n",
       " 'codeup-data-science',\n",
       " '.jupyter',\n",
       " '.pydataset',\n",
       " 'Documents',\n",
       " '.mysql_history',\n",
       " '.vscode',\n",
       " 'Downloads',\n",
       " '.python_history',\n",
       " '.cache',\n",
       " '.gitconfig',\n",
       " '.zsh_sessions',\n",
       " '.conda']"
      ]
     },
     "execution_count": 47,
     "metadata": {},
     "output_type": "execute_result"
    }
   ],
   "source": [
    "os.listdir('/Users/divante')"
   ]
  },
  {
   "cell_type": "code",
   "execution_count": 48,
   "id": "7710f06f",
   "metadata": {},
   "outputs": [],
   "source": [
    "import send2trash"
   ]
  },
  {
   "cell_type": "code",
   "execution_count": 49,
   "id": "d15edcc5",
   "metadata": {},
   "outputs": [
    {
     "data": {
      "text/plain": [
       "['lesson_7_neststed_statements_and_scope.ipynb',\n",
       " 'test_cap.py',\n",
       " '04-OOP Challenge.ipynb',\n",
       " 'lesson_10_error_handling.ipynb',\n",
       " 'lesson_5_methods.ipynb',\n",
       " 'dkfjsklfjlkas.txt',\n",
       " 'lesson_6_lambda_map_and_filter.ipynb',\n",
       " '07-Statements Assessment Test.ipynb',\n",
       " 'cap.py',\n",
       " 'practice.txt',\n",
       " 'my_new_file.txt',\n",
       " 'lesson_13_generators.ipynb',\n",
       " 'lesson_4_python_statements.ipynb',\n",
       " '__pycache__',\n",
       " 'lesson_11_milestone_prep.ipynb',\n",
       " 'lesson_2_working_with_files.ipynb',\n",
       " 'blackjack_game.ipynb',\n",
       " 'lesson_12_decorators.ipynb',\n",
       " 'tic_tac_toe_capstone.ipynb',\n",
       " '02-Errors and Exceptions Homework.ipynb',\n",
       " 'lesson_13_advanced_python_modules.ipynb',\n",
       " 'lesson_3_operators.ipynb',\n",
       " '03-Function Practice Exercises.ipynb',\n",
       " 'myfile.txt',\n",
       " '.ipynb_checkpoints',\n",
       " '09-Objects and Data Structures Assessment Test.ipynb',\n",
       " '02-Object Oriented Programming Homework.ipynb',\n",
       " '.git',\n",
       " 'testfile',\n",
       " '08-Functions and Methods Homework.ipynb',\n",
       " 'lesson_8_tic_tac_toe.ipynb',\n",
       " '02-Iterators and Generators Homework.ipynb',\n",
       " 'lesson_1_dtypes.ipynb',\n",
       " 'lesson_9_object_oriented_programming_classes.ipynb']"
      ]
     },
     "execution_count": 49,
     "metadata": {},
     "output_type": "execute_result"
    }
   ],
   "source": [
    "os.listdir()"
   ]
  },
  {
   "cell_type": "code",
   "execution_count": 50,
   "id": "e103370d",
   "metadata": {},
   "outputs": [],
   "source": [
    "send2trash.send2trash('practice.txt')"
   ]
  },
  {
   "cell_type": "code",
   "execution_count": 51,
   "id": "43c23299",
   "metadata": {},
   "outputs": [
    {
     "data": {
      "text/plain": [
       "['lesson_7_neststed_statements_and_scope.ipynb',\n",
       " 'test_cap.py',\n",
       " '04-OOP Challenge.ipynb',\n",
       " 'lesson_10_error_handling.ipynb',\n",
       " 'lesson_5_methods.ipynb',\n",
       " 'dkfjsklfjlkas.txt',\n",
       " 'lesson_6_lambda_map_and_filter.ipynb',\n",
       " '07-Statements Assessment Test.ipynb',\n",
       " 'cap.py',\n",
       " 'my_new_file.txt',\n",
       " 'lesson_13_generators.ipynb',\n",
       " 'lesson_4_python_statements.ipynb',\n",
       " '__pycache__',\n",
       " 'lesson_11_milestone_prep.ipynb',\n",
       " 'lesson_2_working_with_files.ipynb',\n",
       " 'blackjack_game.ipynb',\n",
       " 'lesson_12_decorators.ipynb',\n",
       " 'tic_tac_toe_capstone.ipynb',\n",
       " '02-Errors and Exceptions Homework.ipynb',\n",
       " 'lesson_13_advanced_python_modules.ipynb',\n",
       " 'lesson_3_operators.ipynb',\n",
       " '03-Function Practice Exercises.ipynb',\n",
       " 'myfile.txt',\n",
       " '.ipynb_checkpoints',\n",
       " '09-Objects and Data Structures Assessment Test.ipynb',\n",
       " '02-Object Oriented Programming Homework.ipynb',\n",
       " '.git',\n",
       " 'testfile',\n",
       " '08-Functions and Methods Homework.ipynb',\n",
       " 'lesson_8_tic_tac_toe.ipynb',\n",
       " '02-Iterators and Generators Homework.ipynb',\n",
       " 'lesson_1_dtypes.ipynb',\n",
       " 'lesson_9_object_oriented_programming_classes.ipynb']"
      ]
     },
     "execution_count": 51,
     "metadata": {},
     "output_type": "execute_result"
    }
   ],
   "source": [
    "os.listdir()"
   ]
  },
  {
   "cell_type": "code",
   "execution_count": 54,
   "id": "29308fbb",
   "metadata": {},
   "outputs": [
    {
     "ename": "SyntaxError",
     "evalue": "invalid syntax (1924417921.py, line 1)",
     "output_type": "error",
     "traceback": [
      "\u001b[0;36m  Cell \u001b[0;32mIn[54], line 1\u001b[0;36m\u001b[0m\n\u001b[0;31m    for folder, sub_folders, files in os.walk()\u001b[0m\n\u001b[0m                                               ^\u001b[0m\n\u001b[0;31mSyntaxError\u001b[0m\u001b[0;31m:\u001b[0m invalid syntax\n"
     ]
    }
   ],
   "source": [
    "for folder, sub_folders, files in os.walk()"
   ]
  },
  {
   "cell_type": "code",
   "execution_count": 59,
   "id": "0685aa8e",
   "metadata": {},
   "outputs": [
    {
     "name": "stdout",
     "output_type": "stream",
     "text": [
      " Currently looking at /Users/divante/codeup-data-science/udemy_python\n",
      "\n",
      "\n",
      "The subfolders are: \n",
      "\t Subfolder: __pycache__\n",
      "\t Subfolder: .ipynb_checkpoints\n",
      "\t Subfolder: .git\n",
      "\n",
      "\n",
      "the files are : \n",
      "\tFile: lesson_7_neststed_statements_and_scope.ipynb\n",
      "\tFile: test_cap.py\n",
      "\tFile: 04-OOP Challenge.ipynb\n",
      "\tFile: lesson_10_error_handling.ipynb\n",
      "\tFile: lesson_5_methods.ipynb\n",
      "\tFile: dkfjsklfjlkas.txt\n",
      "\tFile: lesson_6_lambda_map_and_filter.ipynb\n",
      "\tFile: 07-Statements Assessment Test.ipynb\n",
      "\tFile: cap.py\n",
      "\tFile: my_new_file.txt\n",
      "\tFile: lesson_13_generators.ipynb\n",
      "\tFile: lesson_4_python_statements.ipynb\n",
      "\tFile: lesson_11_milestone_prep.ipynb\n",
      "\tFile: lesson_2_working_with_files.ipynb\n",
      "\tFile: blackjack_game.ipynb\n",
      "\tFile: lesson_12_decorators.ipynb\n",
      "\tFile: tic_tac_toe_capstone.ipynb\n",
      "\tFile: 02-Errors and Exceptions Homework.ipynb\n",
      "\tFile: lesson_13_advanced_python_modules.ipynb\n",
      "\tFile: lesson_3_operators.ipynb\n",
      "\tFile: 03-Function Practice Exercises.ipynb\n",
      "\tFile: myfile.txt\n",
      "\tFile: 09-Objects and Data Structures Assessment Test.ipynb\n",
      "\tFile: 02-Object Oriented Programming Homework.ipynb\n",
      "\tFile: testfile\n",
      "\tFile: 08-Functions and Methods Homework.ipynb\n",
      "\tFile: lesson_8_tic_tac_toe.ipynb\n",
      "\tFile: 02-Iterators and Generators Homework.ipynb\n",
      "\tFile: lesson_1_dtypes.ipynb\n",
      "\tFile: lesson_9_object_oriented_programming_classes.ipynb\n",
      "\n",
      "\n",
      " Currently looking at /Users/divante/codeup-data-science/udemy_python/__pycache__\n",
      "\n",
      "\n",
      "The subfolders are: \n",
      "\n",
      "\n",
      "the files are : \n",
      "\tFile: cap.cpython-39.pyc\n",
      "\n",
      "\n",
      " Currently looking at /Users/divante/codeup-data-science/udemy_python/.ipynb_checkpoints\n",
      "\n",
      "\n",
      "The subfolders are: \n",
      "\n",
      "\n",
      "the files are : \n",
      "\tFile: lesson_7_neststed_statements_and_scope-checkpoint.ipynb\n",
      "\tFile: 07-Statements Assessment Test-checkpoint.ipynb\n",
      "\tFile: lesson_1_dtypes-checkpoint.ipynb\n",
      "\tFile: lesson_3_operators-checkpoint.ipynb\n",
      "\tFile: 02-Iterators and Generators Homework-checkpoint.ipynb\n",
      "\tFile: 04-OOP Challenge-checkpoint.ipynb\n",
      "\tFile: lesson_13_advanced_python_modules-checkpoint.ipynb\n",
      "\tFile: 02-Object Oriented Programming Homework-checkpoint.ipynb\n",
      "\tFile: lesson_12_decorators-checkpoint.ipynb\n",
      "\tFile: lesson_2_working_with_files-checkpoint.ipynb\n",
      "\tFile: 08-Functions and Methods Homework-checkpoint.ipynb\n",
      "\tFile: 09-Objects and Data Structures Assessment Test-checkpoint.ipynb\n",
      "\tFile: 03-Function Practice Exercises-checkpoint.ipynb\n",
      "\tFile: lesson_13_generators-checkpoint.ipynb\n",
      "\tFile: lesson_9_object_oriented_programming_classes-checkpoint.ipynb\n",
      "\tFile: lesson_6_lambda_map_and_filter-checkpoint.ipynb\n",
      "\tFile: 02-Errors and Exceptions Homework-checkpoint.ipynb\n",
      "\tFile: tic_tac_toe_capstone-checkpoint.ipynb\n",
      "\tFile: lesson_5_methods-checkpoint.ipynb\n",
      "\tFile: lesson_4_python_statements-checkpoint.ipynb\n",
      "\tFile: blackjack_game-checkpoint.ipynb\n",
      "\tFile: lesson_10_error_handling-checkpoint.ipynb\n",
      "\tFile: lesson_8_tic_tac_toe-checkpoint.ipynb\n",
      "\tFile: lesson_11_milestone_prep-checkpoint.ipynb\n",
      "\n",
      "\n",
      " Currently looking at /Users/divante/codeup-data-science/udemy_python/.git\n",
      "\n",
      "\n",
      "The subfolders are: \n",
      "\t Subfolder: objects\n",
      "\t Subfolder: info\n",
      "\t Subfolder: logs\n",
      "\t Subfolder: hooks\n",
      "\t Subfolder: refs\n",
      "\n",
      "\n",
      "the files are : \n",
      "\tFile: config\n",
      "\tFile: HEAD\n",
      "\tFile: description\n",
      "\tFile: index\n",
      "\tFile: COMMIT_EDITMSG\n",
      "\n",
      "\n",
      " Currently looking at /Users/divante/codeup-data-science/udemy_python/.git/objects\n",
      "\n",
      "\n",
      "The subfolders are: \n",
      "\t Subfolder: 61\n",
      "\t Subfolder: 0d\n",
      "\t Subfolder: 3e\n",
      "\t Subfolder: 69\n",
      "\t Subfolder: 0b\n",
      "\t Subfolder: 5a\n",
      "\t Subfolder: a4\n",
      "\t Subfolder: be\n",
      "\t Subfolder: df\n",
      "\t Subfolder: a2\n",
      "\t Subfolder: bd\n",
      "\t Subfolder: d6\n",
      "\t Subfolder: d8\n",
      "\t Subfolder: c7\n",
      "\t Subfolder: c9\n",
      "\t Subfolder: e4\n",
      "\t Subfolder: fe\n",
      "\t Subfolder: 20\n",
      "\t Subfolder: pack\n",
      "\t Subfolder: 1f\n",
      "\t Subfolder: 74\n",
      "\t Subfolder: 8a\n",
      "\t Subfolder: 26\n",
      "\t Subfolder: 72\n",
      "\t Subfolder: 38\n",
      "\t Subfolder: 31\n",
      "\t Subfolder: info\n",
      "\t Subfolder: 54\n",
      "\t Subfolder: 39\n",
      "\t Subfolder: 99\n",
      "\t Subfolder: 97\n",
      "\t Subfolder: 63\n",
      "\t Subfolder: ba\n",
      "\t Subfolder: a7\n",
      "\t Subfolder: dc\n",
      "\t Subfolder: b7\n",
      "\t Subfolder: b0\n",
      "\t Subfolder: f9\n",
      "\t Subfolder: fa\n",
      "\t Subfolder: ff\n",
      "\t Subfolder: cb\n",
      "\t Subfolder: f8\n",
      "\t Subfolder: e0\n",
      "\t Subfolder: 48\n",
      "\t Subfolder: 70\n",
      "\t Subfolder: 4a\n",
      "\t Subfolder: 4f\n",
      "\t Subfolder: 82\n",
      "\t Subfolder: 2b\n",
      "\t Subfolder: 8b\n",
      "\t Subfolder: 8e\n",
      "\n",
      "\n",
      "the files are : \n",
      "\n",
      "\n",
      " Currently looking at /Users/divante/codeup-data-science/udemy_python/.git/objects/61\n",
      "\n",
      "\n",
      "The subfolders are: \n",
      "\n",
      "\n",
      "the files are : \n",
      "\tFile: d055976b4de1193f514917721286f2d4100281\n",
      "\n",
      "\n",
      " Currently looking at /Users/divante/codeup-data-science/udemy_python/.git/objects/0d\n",
      "\n",
      "\n",
      "The subfolders are: \n",
      "\n",
      "\n",
      "the files are : \n",
      "\tFile: 3dd22d5f943d358bbf442e6dffcc6488d21936\n",
      "\n",
      "\n",
      " Currently looking at /Users/divante/codeup-data-science/udemy_python/.git/objects/3e\n",
      "\n",
      "\n",
      "The subfolders are: \n",
      "\n",
      "\n",
      "the files are : \n",
      "\tFile: 1bec27491325bcf88d56882d664b76d2679fa6\n",
      "\n",
      "\n",
      " Currently looking at /Users/divante/codeup-data-science/udemy_python/.git/objects/69\n",
      "\n",
      "\n",
      "The subfolders are: \n",
      "\n",
      "\n",
      "the files are : \n",
      "\tFile: 5c4980a5d815462317b1cb180187b2514379a6\n",
      "\n",
      "\n",
      " Currently looking at /Users/divante/codeup-data-science/udemy_python/.git/objects/0b\n",
      "\n",
      "\n",
      "The subfolders are: \n",
      "\n",
      "\n",
      "the files are : \n",
      "\tFile: c143fee4ba990e935108a8b17799de3d48dcb7\n",
      "\n",
      "\n",
      " Currently looking at /Users/divante/codeup-data-science/udemy_python/.git/objects/5a\n",
      "\n",
      "\n",
      "The subfolders are: \n",
      "\n",
      "\n",
      "the files are : \n",
      "\tFile: f9a0c635a19a7f78630733f295271afcbcc72e\n",
      "\n",
      "\n",
      " Currently looking at /Users/divante/codeup-data-science/udemy_python/.git/objects/a4\n",
      "\n",
      "\n",
      "The subfolders are: \n",
      "\n",
      "\n",
      "the files are : \n",
      "\tFile: 5912ec623801cd97f5e03baf5aebf060bbc95b\n",
      "\n",
      "\n",
      " Currently looking at /Users/divante/codeup-data-science/udemy_python/.git/objects/be\n",
      "\n",
      "\n",
      "The subfolders are: \n",
      "\n",
      "\n",
      "the files are : \n",
      "\tFile: 43f181d2c2cda66262aa382a503d08aceb283c\n",
      "\n",
      "\n",
      " Currently looking at /Users/divante/codeup-data-science/udemy_python/.git/objects/df\n",
      "\n",
      "\n",
      "The subfolders are: \n",
      "\n",
      "\n",
      "the files are : \n",
      "\tFile: 09491f63cbbd04954387c886c4404c64960c62\n",
      "\n",
      "\n",
      " Currently looking at /Users/divante/codeup-data-science/udemy_python/.git/objects/a2\n",
      "\n",
      "\n",
      "The subfolders are: \n",
      "\n",
      "\n",
      "the files are : \n",
      "\tFile: 2599a1c21e1b77efb825a83305afe0d76bd71c\n",
      "\n",
      "\n",
      " Currently looking at /Users/divante/codeup-data-science/udemy_python/.git/objects/bd\n",
      "\n",
      "\n",
      "The subfolders are: \n",
      "\n",
      "\n",
      "the files are : \n",
      "\tFile: 675ea2601ba6226af0873aa2dac1f52ed93f67\n",
      "\n",
      "\n",
      " Currently looking at /Users/divante/codeup-data-science/udemy_python/.git/objects/d6\n",
      "\n",
      "\n",
      "The subfolders are: \n",
      "\n",
      "\n",
      "the files are : \n",
      "\tFile: 81527e0f5db905b7b23b4f7ac60aad4eaa61aa\n",
      "\n",
      "\n",
      " Currently looking at /Users/divante/codeup-data-science/udemy_python/.git/objects/d8\n",
      "\n",
      "\n",
      "The subfolders are: \n",
      "\n",
      "\n",
      "the files are : \n",
      "\tFile: 9840fd0ce7da03e4f2f13584dbf9c65f24bbe1\n",
      "\tFile: 8cdea656c2ba6af6ceccedafd49d4219d35380\n",
      "\n",
      "\n",
      " Currently looking at /Users/divante/codeup-data-science/udemy_python/.git/objects/c7\n",
      "\n",
      "\n",
      "The subfolders are: \n",
      "\n",
      "\n",
      "the files are : \n",
      "\tFile: 7283cf658ad16bc644d3a61751cb848c7e95a2\n",
      "\n",
      "\n",
      " Currently looking at /Users/divante/codeup-data-science/udemy_python/.git/objects/c9\n",
      "\n",
      "\n",
      "The subfolders are: \n",
      "\n",
      "\n",
      "the files are : \n",
      "\tFile: 5c27f71e6b48aedde74ba08ab632f878e845ae\n",
      "\n",
      "\n",
      " Currently looking at /Users/divante/codeup-data-science/udemy_python/.git/objects/e4\n",
      "\n",
      "\n",
      "The subfolders are: \n",
      "\n",
      "\n",
      "the files are : \n",
      "\tFile: 5305f11e09e88837ad18cdc2afe4459171f5fb\n",
      "\n",
      "\n",
      " Currently looking at /Users/divante/codeup-data-science/udemy_python/.git/objects/fe\n",
      "\n",
      "\n",
      "The subfolders are: \n",
      "\n",
      "\n",
      "the files are : \n",
      "\tFile: 24a063670f0a5daf02ef8f8a28c0d4066f5b9a\n",
      "\n",
      "\n",
      " Currently looking at /Users/divante/codeup-data-science/udemy_python/.git/objects/20\n",
      "\n",
      "\n",
      "The subfolders are: \n",
      "\n",
      "\n",
      "the files are : \n",
      "\tFile: 4d05373be50a91c6eb6116ad0801032b262fbf\n",
      "\n",
      "\n",
      " Currently looking at /Users/divante/codeup-data-science/udemy_python/.git/objects/pack\n",
      "\n",
      "\n",
      "The subfolders are: \n",
      "\n",
      "\n",
      "the files are : \n",
      "\n",
      "\n",
      " Currently looking at /Users/divante/codeup-data-science/udemy_python/.git/objects/1f\n",
      "\n",
      "\n",
      "The subfolders are: \n",
      "\n",
      "\n",
      "the files are : \n",
      "\tFile: c812d80a7fc879098b9bfb5dbdb3eb042084c4\n",
      "\n",
      "\n",
      " Currently looking at /Users/divante/codeup-data-science/udemy_python/.git/objects/74\n",
      "\n",
      "\n",
      "The subfolders are: \n",
      "\n",
      "\n",
      "the files are : \n",
      "\tFile: 046567b59568fa8d983f3be846092db94d9dd4\n",
      "\n",
      "\n",
      " Currently looking at /Users/divante/codeup-data-science/udemy_python/.git/objects/8a\n",
      "\n",
      "\n",
      "The subfolders are: \n",
      "\n",
      "\n",
      "the files are : \n",
      "\tFile: dab1dc51bb7f70cea399c06591bb6e8ea405e2\n",
      "\n",
      "\n",
      " Currently looking at /Users/divante/codeup-data-science/udemy_python/.git/objects/26\n",
      "\n",
      "\n",
      "The subfolders are: \n",
      "\n",
      "\n",
      "the files are : \n",
      "\tFile: 988bd8f8b923ea9790fae03463df1b665b45e3\n",
      "\n",
      "\n",
      " Currently looking at /Users/divante/codeup-data-science/udemy_python/.git/objects/72\n",
      "\n",
      "\n",
      "The subfolders are: \n",
      "\n",
      "\n",
      "the files are : \n",
      "\tFile: 274149268b93a4c36e42c1005c50487e11135d\n",
      "\tFile: ad4e776e5121fe8eb6755359f239bf987c6d7c\n",
      "\n",
      "\n",
      " Currently looking at /Users/divante/codeup-data-science/udemy_python/.git/objects/38\n",
      "\n",
      "\n",
      "The subfolders are: \n",
      "\n",
      "\n",
      "the files are : \n",
      "\tFile: 89aa7e9ac7f3f855350fd85447479932726829\n",
      "\n",
      "\n",
      " Currently looking at /Users/divante/codeup-data-science/udemy_python/.git/objects/31\n",
      "\n",
      "\n",
      "The subfolders are: \n",
      "\n",
      "\n",
      "the files are : \n",
      "\tFile: cce3e55496ef56fcc38623f5a7365c07bacd16\n",
      "\n",
      "\n",
      " Currently looking at /Users/divante/codeup-data-science/udemy_python/.git/objects/info\n",
      "\n",
      "\n",
      "The subfolders are: \n",
      "\n",
      "\n",
      "the files are : \n",
      "\n",
      "\n",
      " Currently looking at /Users/divante/codeup-data-science/udemy_python/.git/objects/54\n",
      "\n",
      "\n",
      "The subfolders are: \n",
      "\n",
      "\n",
      "the files are : \n",
      "\tFile: de8fb29d212d46fe712977ec2aeadbe33b41a1\n",
      "\n",
      "\n",
      " Currently looking at /Users/divante/codeup-data-science/udemy_python/.git/objects/39\n",
      "\n",
      "\n",
      "The subfolders are: \n",
      "\n",
      "\n",
      "the files are : \n",
      "\tFile: 4ca34d9451fd52e8ce61b4115f0263f832e65f\n",
      "\n",
      "\n",
      " Currently looking at /Users/divante/codeup-data-science/udemy_python/.git/objects/99\n",
      "\n",
      "\n",
      "The subfolders are: \n",
      "\n",
      "\n",
      "the files are : \n",
      "\tFile: 38ea832eec495bbd28f1175f37aea958a84637\n",
      "\tFile: cb4c8e03b64c9d08afc38d1474b81f66435ca7\n",
      "\n",
      "\n",
      " Currently looking at /Users/divante/codeup-data-science/udemy_python/.git/objects/97\n",
      "\n",
      "\n",
      "The subfolders are: \n",
      "\n",
      "\n",
      "the files are : \n",
      "\tFile: 3bba78932faf93777455bfcab7312a5350933e\n",
      "\n",
      "\n",
      " Currently looking at /Users/divante/codeup-data-science/udemy_python/.git/objects/63\n",
      "\n",
      "\n",
      "The subfolders are: \n",
      "\n",
      "\n",
      "the files are : \n",
      "\tFile: 5d3979bc391f0390d092797e2c3365913f4a2d\n",
      "\n",
      "\n",
      " Currently looking at /Users/divante/codeup-data-science/udemy_python/.git/objects/ba\n",
      "\n",
      "\n",
      "The subfolders are: \n",
      "\n",
      "\n",
      "the files are : \n",
      "\tFile: d245062a62bb41acef343bd85a8ea7cb0b0b88\n",
      "\n",
      "\n",
      " Currently looking at /Users/divante/codeup-data-science/udemy_python/.git/objects/a7\n",
      "\n",
      "\n",
      "The subfolders are: \n",
      "\n",
      "\n",
      "the files are : \n",
      "\tFile: 924196eabeffdce12ee116a10e3a70b93a4ba7\n",
      "\n",
      "\n",
      " Currently looking at /Users/divante/codeup-data-science/udemy_python/.git/objects/dc\n",
      "\n",
      "\n",
      "The subfolders are: \n",
      "\n",
      "\n",
      "the files are : \n",
      "\tFile: 8b75fb770b72696c69d624906f5cb6b2ec0b61\n",
      "\n",
      "\n",
      " Currently looking at /Users/divante/codeup-data-science/udemy_python/.git/objects/b7\n",
      "\n",
      "\n",
      "The subfolders are: \n",
      "\n",
      "\n",
      "the files are : \n",
      "\tFile: 24769f8406066ab6bc09e1daced0252b65a6ff\n",
      "\n",
      "\n",
      " Currently looking at /Users/divante/codeup-data-science/udemy_python/.git/objects/b0\n",
      "\n",
      "\n",
      "The subfolders are: \n",
      "\n",
      "\n",
      "the files are : \n",
      "\tFile: 44d5ebf0622643855f8ced0ff4c3738fd264cf\n",
      "\n",
      "\n",
      " Currently looking at /Users/divante/codeup-data-science/udemy_python/.git/objects/f9\n",
      "\n",
      "\n",
      "The subfolders are: \n",
      "\n",
      "\n",
      "the files are : \n",
      "\tFile: fc07164ba03b5a6bb30c9306d0add0c0d7746e\n",
      "\n",
      "\n",
      " Currently looking at /Users/divante/codeup-data-science/udemy_python/.git/objects/fa\n",
      "\n",
      "\n",
      "The subfolders are: \n",
      "\n",
      "\n",
      "the files are : \n",
      "\tFile: 1d277b0433ff4d77a3efc209443c4eeb6b2241\n",
      "\n",
      "\n",
      " Currently looking at /Users/divante/codeup-data-science/udemy_python/.git/objects/ff\n",
      "\n",
      "\n",
      "The subfolders are: \n",
      "\n",
      "\n",
      "the files are : \n",
      "\tFile: 1ea7b45e586c791192e0acc4cd7d13468be401\n",
      "\n",
      "\n",
      " Currently looking at /Users/divante/codeup-data-science/udemy_python/.git/objects/cb\n",
      "\n",
      "\n",
      "The subfolders are: \n",
      "\n",
      "\n",
      "the files are : \n",
      "\tFile: 7a24a2fb1115017ad59effe4438fce2fc60a4e\n",
      "\n",
      "\n",
      " Currently looking at /Users/divante/codeup-data-science/udemy_python/.git/objects/f8\n",
      "\n",
      "\n",
      "The subfolders are: \n",
      "\n",
      "\n",
      "the files are : \n",
      "\tFile: c111ba4dbe1d67a35becd5eb7f7281937a7d4d\n",
      "\n",
      "\n",
      " Currently looking at /Users/divante/codeup-data-science/udemy_python/.git/objects/e0\n",
      "\n",
      "\n",
      "The subfolders are: \n",
      "\n",
      "\n",
      "the files are : \n",
      "\tFile: 0bb3e8b637f60dd6fbfef2c8012a8321992cdd\n",
      "\n",
      "\n",
      " Currently looking at /Users/divante/codeup-data-science/udemy_python/.git/objects/48\n",
      "\n",
      "\n",
      "The subfolders are: \n",
      "\n",
      "\n",
      "the files are : \n",
      "\tFile: 50d6d69dac8b0e62137d37bc64b99ba6be9e70\n",
      "\n",
      "\n",
      " Currently looking at /Users/divante/codeup-data-science/udemy_python/.git/objects/70\n",
      "\n",
      "\n",
      "The subfolders are: \n",
      "\n",
      "\n",
      "the files are : \n",
      "\tFile: 763a3a5ee921a4c13d1b4337dfb91d3af9417b\n",
      "\n",
      "\n",
      " Currently looking at /Users/divante/codeup-data-science/udemy_python/.git/objects/4a\n",
      "\n",
      "\n",
      "The subfolders are: \n",
      "\n",
      "\n",
      "the files are : \n",
      "\tFile: 68bce62fe60fe8467e22c7d0a63650146d1eee\n",
      "\n",
      "\n",
      " Currently looking at /Users/divante/codeup-data-science/udemy_python/.git/objects/4f\n",
      "\n",
      "\n",
      "The subfolders are: \n",
      "\n",
      "\n",
      "the files are : \n",
      "\tFile: 8974d92193712a59d4ce823e0fc43492bc923e\n",
      "\n",
      "\n",
      " Currently looking at /Users/divante/codeup-data-science/udemy_python/.git/objects/82\n",
      "\n",
      "\n",
      "The subfolders are: \n",
      "\n",
      "\n",
      "the files are : \n",
      "\tFile: 408d4f4dfa9402e24ab7cc0961ec36a2df08e2\n",
      "\n",
      "\n",
      " Currently looking at /Users/divante/codeup-data-science/udemy_python/.git/objects/2b\n",
      "\n",
      "\n",
      "The subfolders are: \n",
      "\n",
      "\n",
      "the files are : \n",
      "\tFile: d797e1e7ca6a2ccc65d52c8b50b4d345b69f91\n",
      "\tFile: ec8949be7549f1fb53391f507be35d9e781a13\n",
      "\n",
      "\n",
      " Currently looking at /Users/divante/codeup-data-science/udemy_python/.git/objects/8b\n",
      "\n",
      "\n",
      "The subfolders are: \n",
      "\n",
      "\n",
      "the files are : \n",
      "\tFile: 1a8aeb073b88de080720f1636a0010fe2994db\n",
      "\n",
      "\n",
      " Currently looking at /Users/divante/codeup-data-science/udemy_python/.git/objects/8e\n",
      "\n",
      "\n",
      "The subfolders are: \n",
      "\n",
      "\n",
      "the files are : \n",
      "\tFile: e853b805bce23035b41effcd2408c2737d68a1\n",
      "\n",
      "\n",
      " Currently looking at /Users/divante/codeup-data-science/udemy_python/.git/info\n",
      "\n",
      "\n",
      "The subfolders are: \n",
      "\n",
      "\n",
      "the files are : \n",
      "\tFile: exclude\n",
      "\n",
      "\n",
      " Currently looking at /Users/divante/codeup-data-science/udemy_python/.git/logs\n",
      "\n",
      "\n",
      "The subfolders are: \n",
      "\t Subfolder: refs\n",
      "\n",
      "\n",
      "the files are : \n",
      "\tFile: HEAD\n",
      "\n",
      "\n",
      " Currently looking at /Users/divante/codeup-data-science/udemy_python/.git/logs/refs\n",
      "\n",
      "\n",
      "The subfolders are: \n",
      "\t Subfolder: heads\n",
      "\t Subfolder: remotes\n",
      "\n",
      "\n",
      "the files are : \n",
      "\n",
      "\n",
      " Currently looking at /Users/divante/codeup-data-science/udemy_python/.git/logs/refs/heads\n",
      "\n",
      "\n",
      "The subfolders are: \n",
      "\n",
      "\n",
      "the files are : \n",
      "\tFile: main\n",
      "\n",
      "\n",
      " Currently looking at /Users/divante/codeup-data-science/udemy_python/.git/logs/refs/remotes\n",
      "\n",
      "\n",
      "The subfolders are: \n",
      "\t Subfolder: origin\n",
      "\n",
      "\n",
      "the files are : \n",
      "\n",
      "\n",
      " Currently looking at /Users/divante/codeup-data-science/udemy_python/.git/logs/refs/remotes/origin\n",
      "\n",
      "\n",
      "The subfolders are: \n",
      "\n",
      "\n",
      "the files are : \n",
      "\tFile: main\n",
      "\n",
      "\n",
      " Currently looking at /Users/divante/codeup-data-science/udemy_python/.git/hooks\n",
      "\n",
      "\n",
      "The subfolders are: \n",
      "\n",
      "\n",
      "the files are : \n",
      "\tFile: commit-msg.sample\n",
      "\tFile: pre-rebase.sample\n",
      "\tFile: pre-commit.sample\n",
      "\tFile: applypatch-msg.sample\n",
      "\tFile: fsmonitor-watchman.sample\n",
      "\tFile: pre-receive.sample\n",
      "\tFile: prepare-commit-msg.sample\n",
      "\tFile: post-update.sample\n",
      "\tFile: pre-merge-commit.sample\n",
      "\tFile: pre-applypatch.sample\n",
      "\tFile: pre-push.sample\n",
      "\tFile: update.sample\n",
      "\tFile: push-to-checkout.sample\n",
      "\n",
      "\n",
      " Currently looking at /Users/divante/codeup-data-science/udemy_python/.git/refs\n",
      "\n",
      "\n",
      "The subfolders are: \n",
      "\t Subfolder: heads\n",
      "\t Subfolder: tags\n",
      "\t Subfolder: remotes\n",
      "\n",
      "\n",
      "the files are : \n",
      "\n",
      "\n",
      " Currently looking at /Users/divante/codeup-data-science/udemy_python/.git/refs/heads\n",
      "\n",
      "\n",
      "The subfolders are: \n",
      "\n",
      "\n",
      "the files are : \n",
      "\tFile: main\n",
      "\n",
      "\n",
      " Currently looking at /Users/divante/codeup-data-science/udemy_python/.git/refs/tags\n",
      "\n",
      "\n",
      "The subfolders are: \n",
      "\n",
      "\n",
      "the files are : \n",
      "\n",
      "\n",
      " Currently looking at /Users/divante/codeup-data-science/udemy_python/.git/refs/remotes\n",
      "\n",
      "\n",
      "The subfolders are: \n",
      "\t Subfolder: origin\n",
      "\n",
      "\n",
      "the files are : \n",
      "\n",
      "\n",
      " Currently looking at /Users/divante/codeup-data-science/udemy_python/.git/refs/remotes/origin\n",
      "\n",
      "\n",
      "The subfolders are: \n",
      "\n",
      "\n",
      "the files are : \n",
      "\tFile: main\n",
      "\n",
      "\n"
     ]
    }
   ],
   "source": [
    "for folder, sub_folders, files in os.walk(os.getcwd()):\n",
    "    print(f\" Currently looking at {folder}\")\n",
    "    print('\\n')\n",
    "    print('The subfolders are: ')\n",
    "    for sub_fold in sub_folders:\n",
    "        print(f\"\\t Subfolder: {sub_fold}\")\n",
    "        \n",
    "    print('\\n')\n",
    "    print('the files are : ')\n",
    "    for f in files:\n",
    "        print(f\"\\tFile: {f}\")\n",
    "    \n",
    "    print('\\n')"
   ]
  },
  {
   "cell_type": "markdown",
   "id": "b6504030",
   "metadata": {},
   "source": [
    "# datetime"
   ]
  },
  {
   "cell_type": "code",
   "execution_count": 60,
   "id": "27d37cb7",
   "metadata": {},
   "outputs": [],
   "source": [
    "import datetime"
   ]
  },
  {
   "cell_type": "code",
   "execution_count": 70,
   "id": "95c35f24",
   "metadata": {},
   "outputs": [],
   "source": [
    "mytime = datetime.time(13, 20, 1, 20)"
   ]
  },
  {
   "cell_type": "code",
   "execution_count": 71,
   "id": "ec60bb2d",
   "metadata": {},
   "outputs": [
    {
     "data": {
      "text/plain": [
       "13"
      ]
     },
     "execution_count": 71,
     "metadata": {},
     "output_type": "execute_result"
    }
   ],
   "source": [
    "mytime.hour"
   ]
  },
  {
   "cell_type": "code",
   "execution_count": 72,
   "id": "9424e909",
   "metadata": {},
   "outputs": [
    {
     "data": {
      "text/plain": [
       "20"
      ]
     },
     "execution_count": 72,
     "metadata": {},
     "output_type": "execute_result"
    }
   ],
   "source": [
    "mytime.minute"
   ]
  },
  {
   "cell_type": "code",
   "execution_count": 73,
   "id": "4c7d4824",
   "metadata": {},
   "outputs": [
    {
     "name": "stdout",
     "output_type": "stream",
     "text": [
      "13:20:01.000020\n"
     ]
    }
   ],
   "source": [
    "print(mytime)"
   ]
  },
  {
   "cell_type": "code",
   "execution_count": 74,
   "id": "359e0c8d",
   "metadata": {},
   "outputs": [
    {
     "data": {
      "text/plain": [
       "20"
      ]
     },
     "execution_count": 74,
     "metadata": {},
     "output_type": "execute_result"
    }
   ],
   "source": [
    "mytime.microsecond"
   ]
  },
  {
   "cell_type": "code",
   "execution_count": 75,
   "id": "24d517aa",
   "metadata": {},
   "outputs": [
    {
     "data": {
      "text/plain": [
       "datetime.time"
      ]
     },
     "execution_count": 75,
     "metadata": {},
     "output_type": "execute_result"
    }
   ],
   "source": [
    "type(mytime)"
   ]
  },
  {
   "cell_type": "code",
   "execution_count": 76,
   "id": "32b56262",
   "metadata": {},
   "outputs": [],
   "source": [
    "today = datetime.date.today()"
   ]
  },
  {
   "cell_type": "code",
   "execution_count": 78,
   "id": "a66c4825",
   "metadata": {},
   "outputs": [
    {
     "name": "stdout",
     "output_type": "stream",
     "text": [
      "2023-08-04\n"
     ]
    }
   ],
   "source": [
    "print(today)"
   ]
  },
  {
   "cell_type": "code",
   "execution_count": 79,
   "id": "2f6121d8",
   "metadata": {},
   "outputs": [
    {
     "data": {
      "text/plain": [
       "2023"
      ]
     },
     "execution_count": 79,
     "metadata": {},
     "output_type": "execute_result"
    }
   ],
   "source": [
    "today.year"
   ]
  },
  {
   "cell_type": "code",
   "execution_count": 80,
   "id": "aeef14b8",
   "metadata": {},
   "outputs": [
    {
     "data": {
      "text/plain": [
       "8"
      ]
     },
     "execution_count": 80,
     "metadata": {},
     "output_type": "execute_result"
    }
   ],
   "source": [
    "today.month"
   ]
  },
  {
   "cell_type": "code",
   "execution_count": 81,
   "id": "eb062239",
   "metadata": {},
   "outputs": [
    {
     "data": {
      "text/plain": [
       "4"
      ]
     },
     "execution_count": 81,
     "metadata": {},
     "output_type": "execute_result"
    }
   ],
   "source": [
    "today.day"
   ]
  },
  {
   "cell_type": "code",
   "execution_count": 82,
   "id": "abed8b23",
   "metadata": {},
   "outputs": [
    {
     "data": {
      "text/plain": [
       "'Fri Aug  4 00:00:00 2023'"
      ]
     },
     "execution_count": 82,
     "metadata": {},
     "output_type": "execute_result"
    }
   ],
   "source": [
    "today.ctime()"
   ]
  },
  {
   "cell_type": "code",
   "execution_count": 83,
   "id": "ec47a674",
   "metadata": {},
   "outputs": [],
   "source": [
    "from datetime import datetime"
   ]
  },
  {
   "cell_type": "code",
   "execution_count": 87,
   "id": "8f207bfd",
   "metadata": {},
   "outputs": [],
   "source": [
    "mydatetime = datetime(2021, 10, 3, 14, 20, 1, 20)"
   ]
  },
  {
   "cell_type": "code",
   "execution_count": 88,
   "id": "5c08a43e",
   "metadata": {},
   "outputs": [
    {
     "name": "stdout",
     "output_type": "stream",
     "text": [
      "2021-10-03 14:20:01.000020\n"
     ]
    }
   ],
   "source": [
    "print(mydatetime)"
   ]
  },
  {
   "cell_type": "code",
   "execution_count": 90,
   "id": "3d52e6ad",
   "metadata": {},
   "outputs": [],
   "source": [
    "mydatetime = mydatetime.replace(year = 2023)"
   ]
  },
  {
   "cell_type": "code",
   "execution_count": 91,
   "id": "150504c2",
   "metadata": {},
   "outputs": [
    {
     "name": "stdout",
     "output_type": "stream",
     "text": [
      "2023-10-03 14:20:01.000020\n"
     ]
    }
   ],
   "source": [
    "print(mydatetime)"
   ]
  },
  {
   "cell_type": "code",
   "execution_count": 92,
   "id": "74428cae",
   "metadata": {},
   "outputs": [],
   "source": [
    "# DATE"
   ]
  },
  {
   "cell_type": "code",
   "execution_count": 93,
   "id": "f0d0da59",
   "metadata": {},
   "outputs": [],
   "source": [
    "from datetime import date"
   ]
  },
  {
   "cell_type": "code",
   "execution_count": 97,
   "id": "05bfaf18",
   "metadata": {},
   "outputs": [],
   "source": [
    "date1 = date(2021, 11, 3)\n",
    "date2 = date(2020, 11, 3)"
   ]
  },
  {
   "cell_type": "code",
   "execution_count": 99,
   "id": "f7b49964",
   "metadata": {},
   "outputs": [],
   "source": [
    "result = date1 - date2"
   ]
  },
  {
   "cell_type": "code",
   "execution_count": 100,
   "id": "c1d8d60f",
   "metadata": {},
   "outputs": [
    {
     "data": {
      "text/plain": [
       "365"
      ]
     },
     "execution_count": 100,
     "metadata": {},
     "output_type": "execute_result"
    }
   ],
   "source": [
    "result.days"
   ]
  },
  {
   "cell_type": "code",
   "execution_count": 101,
   "id": "e63ed592",
   "metadata": {},
   "outputs": [],
   "source": [
    "datetime1 = datetime(2021, 11, 3, 22,0)\n",
    "datetime2 = datetime(2020, 11, 3, 12,0)"
   ]
  },
  {
   "cell_type": "code",
   "execution_count": 103,
   "id": "9495d150",
   "metadata": {},
   "outputs": [],
   "source": [
    "results = datetime1 - datetime2"
   ]
  },
  {
   "cell_type": "code",
   "execution_count": 104,
   "id": "cc8e7a01",
   "metadata": {},
   "outputs": [
    {
     "name": "stdout",
     "output_type": "stream",
     "text": [
      "365 days, 10:00:00\n"
     ]
    }
   ],
   "source": [
    "print(results)"
   ]
  },
  {
   "cell_type": "code",
   "execution_count": 105,
   "id": "74cb1d07",
   "metadata": {},
   "outputs": [
    {
     "data": {
      "text/plain": [
       "datetime.timedelta"
      ]
     },
     "execution_count": 105,
     "metadata": {},
     "output_type": "execute_result"
    }
   ],
   "source": [
    "type(results)"
   ]
  },
  {
   "cell_type": "code",
   "execution_count": 106,
   "id": "32ea366f",
   "metadata": {},
   "outputs": [],
   "source": [
    "import math"
   ]
  },
  {
   "cell_type": "code",
   "execution_count": 107,
   "id": "ef348fd4",
   "metadata": {},
   "outputs": [
    {
     "name": "stdout",
     "output_type": "stream",
     "text": [
      "Help on module math:\n",
      "\n",
      "NAME\n",
      "    math\n",
      "\n",
      "MODULE REFERENCE\n",
      "    https://docs.python.org/3.9/library/math\n",
      "    \n",
      "    The following documentation is automatically generated from the Python\n",
      "    source files.  It may be incomplete, incorrect or include features that\n",
      "    are considered implementation detail and may vary between Python\n",
      "    implementations.  When in doubt, consult the module reference at the\n",
      "    location listed above.\n",
      "\n",
      "DESCRIPTION\n",
      "    This module provides access to the mathematical functions\n",
      "    defined by the C standard.\n",
      "\n",
      "FUNCTIONS\n",
      "    acos(x, /)\n",
      "        Return the arc cosine (measured in radians) of x.\n",
      "        \n",
      "        The result is between 0 and pi.\n",
      "    \n",
      "    acosh(x, /)\n",
      "        Return the inverse hyperbolic cosine of x.\n",
      "    \n",
      "    asin(x, /)\n",
      "        Return the arc sine (measured in radians) of x.\n",
      "        \n",
      "        The result is between -pi/2 and pi/2.\n",
      "    \n",
      "    asinh(x, /)\n",
      "        Return the inverse hyperbolic sine of x.\n",
      "    \n",
      "    atan(x, /)\n",
      "        Return the arc tangent (measured in radians) of x.\n",
      "        \n",
      "        The result is between -pi/2 and pi/2.\n",
      "    \n",
      "    atan2(y, x, /)\n",
      "        Return the arc tangent (measured in radians) of y/x.\n",
      "        \n",
      "        Unlike atan(y/x), the signs of both x and y are considered.\n",
      "    \n",
      "    atanh(x, /)\n",
      "        Return the inverse hyperbolic tangent of x.\n",
      "    \n",
      "    ceil(x, /)\n",
      "        Return the ceiling of x as an Integral.\n",
      "        \n",
      "        This is the smallest integer >= x.\n",
      "    \n",
      "    comb(n, k, /)\n",
      "        Number of ways to choose k items from n items without repetition and without order.\n",
      "        \n",
      "        Evaluates to n! / (k! * (n - k)!) when k <= n and evaluates\n",
      "        to zero when k > n.\n",
      "        \n",
      "        Also called the binomial coefficient because it is equivalent\n",
      "        to the coefficient of k-th term in polynomial expansion of the\n",
      "        expression (1 + x)**n.\n",
      "        \n",
      "        Raises TypeError if either of the arguments are not integers.\n",
      "        Raises ValueError if either of the arguments are negative.\n",
      "    \n",
      "    copysign(x, y, /)\n",
      "        Return a float with the magnitude (absolute value) of x but the sign of y.\n",
      "        \n",
      "        On platforms that support signed zeros, copysign(1.0, -0.0)\n",
      "        returns -1.0.\n",
      "    \n",
      "    cos(x, /)\n",
      "        Return the cosine of x (measured in radians).\n",
      "    \n",
      "    cosh(x, /)\n",
      "        Return the hyperbolic cosine of x.\n",
      "    \n",
      "    degrees(x, /)\n",
      "        Convert angle x from radians to degrees.\n",
      "    \n",
      "    dist(p, q, /)\n",
      "        Return the Euclidean distance between two points p and q.\n",
      "        \n",
      "        The points should be specified as sequences (or iterables) of\n",
      "        coordinates.  Both inputs must have the same dimension.\n",
      "        \n",
      "        Roughly equivalent to:\n",
      "            sqrt(sum((px - qx) ** 2.0 for px, qx in zip(p, q)))\n",
      "    \n",
      "    erf(x, /)\n",
      "        Error function at x.\n",
      "    \n",
      "    erfc(x, /)\n",
      "        Complementary error function at x.\n",
      "    \n",
      "    exp(x, /)\n",
      "        Return e raised to the power of x.\n",
      "    \n",
      "    expm1(x, /)\n",
      "        Return exp(x)-1.\n",
      "        \n",
      "        This function avoids the loss of precision involved in the direct evaluation of exp(x)-1 for small x.\n",
      "    \n",
      "    fabs(x, /)\n",
      "        Return the absolute value of the float x.\n",
      "    \n",
      "    factorial(x, /)\n",
      "        Find x!.\n",
      "        \n",
      "        Raise a ValueError if x is negative or non-integral.\n",
      "    \n",
      "    floor(x, /)\n",
      "        Return the floor of x as an Integral.\n",
      "        \n",
      "        This is the largest integer <= x.\n",
      "    \n",
      "    fmod(x, y, /)\n",
      "        Return fmod(x, y), according to platform C.\n",
      "        \n",
      "        x % y may differ.\n",
      "    \n",
      "    frexp(x, /)\n",
      "        Return the mantissa and exponent of x, as pair (m, e).\n",
      "        \n",
      "        m is a float and e is an int, such that x = m * 2.**e.\n",
      "        If x is 0, m and e are both 0.  Else 0.5 <= abs(m) < 1.0.\n",
      "    \n",
      "    fsum(seq, /)\n",
      "        Return an accurate floating point sum of values in the iterable seq.\n",
      "        \n",
      "        Assumes IEEE-754 floating point arithmetic.\n",
      "    \n",
      "    gamma(x, /)\n",
      "        Gamma function at x.\n",
      "    \n",
      "    gcd(*integers)\n",
      "        Greatest Common Divisor.\n",
      "    \n",
      "    hypot(...)\n",
      "        hypot(*coordinates) -> value\n",
      "        \n",
      "        Multidimensional Euclidean distance from the origin to a point.\n",
      "        \n",
      "        Roughly equivalent to:\n",
      "            sqrt(sum(x**2 for x in coordinates))\n",
      "        \n",
      "        For a two dimensional point (x, y), gives the hypotenuse\n",
      "        using the Pythagorean theorem:  sqrt(x*x + y*y).\n",
      "        \n",
      "        For example, the hypotenuse of a 3/4/5 right triangle is:\n",
      "        \n",
      "            >>> hypot(3.0, 4.0)\n",
      "            5.0\n",
      "    \n",
      "    isclose(a, b, *, rel_tol=1e-09, abs_tol=0.0)\n",
      "        Determine whether two floating point numbers are close in value.\n",
      "        \n",
      "          rel_tol\n",
      "            maximum difference for being considered \"close\", relative to the\n",
      "            magnitude of the input values\n",
      "          abs_tol\n",
      "            maximum difference for being considered \"close\", regardless of the\n",
      "            magnitude of the input values\n",
      "        \n",
      "        Return True if a is close in value to b, and False otherwise.\n",
      "        \n",
      "        For the values to be considered close, the difference between them\n",
      "        must be smaller than at least one of the tolerances.\n",
      "        \n",
      "        -inf, inf and NaN behave similarly to the IEEE 754 Standard.  That\n",
      "        is, NaN is not close to anything, even itself.  inf and -inf are\n",
      "        only close to themselves.\n",
      "    \n",
      "    isfinite(x, /)\n",
      "        Return True if x is neither an infinity nor a NaN, and False otherwise.\n",
      "    \n",
      "    isinf(x, /)\n",
      "        Return True if x is a positive or negative infinity, and False otherwise.\n",
      "    \n",
      "    isnan(x, /)\n",
      "        Return True if x is a NaN (not a number), and False otherwise.\n",
      "    \n",
      "    isqrt(n, /)\n",
      "        Return the integer part of the square root of the input.\n",
      "    \n",
      "    lcm(*integers)\n",
      "        Least Common Multiple.\n",
      "    \n",
      "    ldexp(x, i, /)\n",
      "        Return x * (2**i).\n",
      "        \n",
      "        This is essentially the inverse of frexp().\n",
      "    \n",
      "    lgamma(x, /)\n",
      "        Natural logarithm of absolute value of Gamma function at x.\n",
      "    \n",
      "    log(...)\n",
      "        log(x, [base=math.e])\n",
      "        Return the logarithm of x to the given base.\n",
      "        \n",
      "        If the base not specified, returns the natural logarithm (base e) of x.\n",
      "    \n",
      "    log10(x, /)\n",
      "        Return the base 10 logarithm of x.\n",
      "    \n",
      "    log1p(x, /)\n",
      "        Return the natural logarithm of 1+x (base e).\n",
      "        \n",
      "        The result is computed in a way which is accurate for x near zero.\n",
      "    \n",
      "    log2(x, /)\n",
      "        Return the base 2 logarithm of x.\n",
      "    \n",
      "    modf(x, /)\n",
      "        Return the fractional and integer parts of x.\n",
      "        \n",
      "        Both results carry the sign of x and are floats.\n",
      "    \n",
      "    nextafter(x, y, /)\n",
      "        Return the next floating-point value after x towards y.\n",
      "    \n",
      "    perm(n, k=None, /)\n",
      "        Number of ways to choose k items from n items without repetition and with order.\n",
      "        \n",
      "        Evaluates to n! / (n - k)! when k <= n and evaluates\n",
      "        to zero when k > n.\n",
      "        \n",
      "        If k is not specified or is None, then k defaults to n\n",
      "        and the function returns n!.\n",
      "        \n",
      "        Raises TypeError if either of the arguments are not integers.\n",
      "        Raises ValueError if either of the arguments are negative.\n",
      "    \n",
      "    pow(x, y, /)\n",
      "        Return x**y (x to the power of y).\n",
      "    \n",
      "    prod(iterable, /, *, start=1)\n",
      "        Calculate the product of all the elements in the input iterable.\n",
      "        \n",
      "        The default start value for the product is 1.\n",
      "        \n",
      "        When the iterable is empty, return the start value.  This function is\n",
      "        intended specifically for use with numeric values and may reject\n",
      "        non-numeric types.\n",
      "    \n",
      "    radians(x, /)\n",
      "        Convert angle x from degrees to radians.\n",
      "    \n",
      "    remainder(x, y, /)\n",
      "        Difference between x and the closest integer multiple of y.\n",
      "        \n",
      "        Return x - n*y where n*y is the closest integer multiple of y.\n",
      "        In the case where x is exactly halfway between two multiples of\n",
      "        y, the nearest even value of n is used. The result is always exact.\n",
      "    \n",
      "    sin(x, /)\n",
      "        Return the sine of x (measured in radians).\n",
      "    \n",
      "    sinh(x, /)\n",
      "        Return the hyperbolic sine of x.\n",
      "    \n",
      "    sqrt(x, /)\n",
      "        Return the square root of x.\n",
      "    \n",
      "    tan(x, /)\n",
      "        Return the tangent of x (measured in radians).\n",
      "    \n",
      "    tanh(x, /)\n",
      "        Return the hyperbolic tangent of x.\n",
      "    \n",
      "    trunc(x, /)\n",
      "        Truncates the Real x to the nearest Integral toward 0.\n",
      "        \n",
      "        Uses the __trunc__ magic method.\n",
      "    \n",
      "    ulp(x, /)\n",
      "        Return the value of the least significant bit of the float x.\n",
      "\n",
      "DATA\n",
      "    e = 2.718281828459045\n",
      "    inf = inf\n",
      "    nan = nan\n",
      "    pi = 3.141592653589793\n",
      "    tau = 6.283185307179586\n",
      "\n",
      "FILE\n",
      "    /opt/homebrew/anaconda3/lib/python3.9/lib-dynload/math.cpython-39-darwin.so\n",
      "\n",
      "\n"
     ]
    }
   ],
   "source": [
    "help(math)"
   ]
  },
  {
   "cell_type": "code",
   "execution_count": 108,
   "id": "c7278f4d",
   "metadata": {},
   "outputs": [],
   "source": [
    "value = 4.35"
   ]
  },
  {
   "cell_type": "code",
   "execution_count": 109,
   "id": "37562e58",
   "metadata": {},
   "outputs": [
    {
     "data": {
      "text/plain": [
       "4"
      ]
     },
     "execution_count": 109,
     "metadata": {},
     "output_type": "execute_result"
    }
   ],
   "source": [
    "math.floor(value)"
   ]
  },
  {
   "cell_type": "code",
   "execution_count": 110,
   "id": "af974e25",
   "metadata": {},
   "outputs": [
    {
     "data": {
      "text/plain": [
       "5"
      ]
     },
     "execution_count": 110,
     "metadata": {},
     "output_type": "execute_result"
    }
   ],
   "source": [
    "math.ceil(value)"
   ]
  },
  {
   "cell_type": "code",
   "execution_count": 111,
   "id": "018340bb",
   "metadata": {},
   "outputs": [
    {
     "data": {
      "text/plain": [
       "4"
      ]
     },
     "execution_count": 111,
     "metadata": {},
     "output_type": "execute_result"
    }
   ],
   "source": [
    "round(value)"
   ]
  },
  {
   "cell_type": "code",
   "execution_count": 112,
   "id": "3d91d0bd",
   "metadata": {},
   "outputs": [
    {
     "data": {
      "text/plain": [
       "4"
      ]
     },
     "execution_count": 112,
     "metadata": {},
     "output_type": "execute_result"
    }
   ],
   "source": [
    "round(4.5)"
   ]
  },
  {
   "cell_type": "code",
   "execution_count": 113,
   "id": "d06218d8",
   "metadata": {},
   "outputs": [
    {
     "data": {
      "text/plain": [
       "6"
      ]
     },
     "execution_count": 113,
     "metadata": {},
     "output_type": "execute_result"
    }
   ],
   "source": [
    "round(5.5)"
   ]
  },
  {
   "cell_type": "code",
   "execution_count": 114,
   "id": "6a6893e0",
   "metadata": {},
   "outputs": [
    {
     "data": {
      "text/plain": [
       "3.141592653589793"
      ]
     },
     "execution_count": 114,
     "metadata": {},
     "output_type": "execute_result"
    }
   ],
   "source": [
    "math.pi"
   ]
  },
  {
   "cell_type": "code",
   "execution_count": 115,
   "id": "f15f3ecf",
   "metadata": {},
   "outputs": [],
   "source": [
    "from math import pi"
   ]
  },
  {
   "cell_type": "code",
   "execution_count": 116,
   "id": "ca8c8c5b",
   "metadata": {},
   "outputs": [
    {
     "data": {
      "text/plain": [
       "3.141592653589793"
      ]
     },
     "execution_count": 116,
     "metadata": {},
     "output_type": "execute_result"
    }
   ],
   "source": [
    "pi"
   ]
  },
  {
   "cell_type": "code",
   "execution_count": 117,
   "id": "6c9a3fae",
   "metadata": {},
   "outputs": [
    {
     "data": {
      "text/plain": [
       "2.718281828459045"
      ]
     },
     "execution_count": 117,
     "metadata": {},
     "output_type": "execute_result"
    }
   ],
   "source": [
    "math.e"
   ]
  },
  {
   "cell_type": "code",
   "execution_count": 118,
   "id": "33f2d772",
   "metadata": {},
   "outputs": [
    {
     "data": {
      "text/plain": [
       "inf"
      ]
     },
     "execution_count": 118,
     "metadata": {},
     "output_type": "execute_result"
    }
   ],
   "source": [
    "math.inf"
   ]
  },
  {
   "cell_type": "code",
   "execution_count": 120,
   "id": "b3436bfc",
   "metadata": {},
   "outputs": [
    {
     "data": {
      "text/plain": [
       "nan"
      ]
     },
     "execution_count": 120,
     "metadata": {},
     "output_type": "execute_result"
    }
   ],
   "source": [
    "math.nan"
   ]
  },
  {
   "cell_type": "code",
   "execution_count": 121,
   "id": "2f7cd5c8",
   "metadata": {},
   "outputs": [
    {
     "data": {
      "text/plain": [
       "2.718281828459045"
      ]
     },
     "execution_count": 121,
     "metadata": {},
     "output_type": "execute_result"
    }
   ],
   "source": [
    "math.e"
   ]
  },
  {
   "cell_type": "code",
   "execution_count": 122,
   "id": "e3ad7bf4",
   "metadata": {},
   "outputs": [
    {
     "data": {
      "text/plain": [
       "1.0"
      ]
     },
     "execution_count": 122,
     "metadata": {},
     "output_type": "execute_result"
    }
   ],
   "source": [
    "math.log(math.e)"
   ]
  },
  {
   "cell_type": "code",
   "execution_count": 123,
   "id": "cee4e3c6",
   "metadata": {},
   "outputs": [
    {
     "data": {
      "text/plain": [
       "2.0"
      ]
     },
     "execution_count": 123,
     "metadata": {},
     "output_type": "execute_result"
    }
   ],
   "source": [
    "math.log(100, 10)"
   ]
  },
  {
   "cell_type": "code",
   "execution_count": 124,
   "id": "103c7962",
   "metadata": {},
   "outputs": [
    {
     "data": {
      "text/plain": [
       "-0.5440211108893698"
      ]
     },
     "execution_count": 124,
     "metadata": {},
     "output_type": "execute_result"
    }
   ],
   "source": [
    "math.sin(10)"
   ]
  },
  {
   "cell_type": "code",
   "execution_count": 125,
   "id": "82dfb2d6",
   "metadata": {},
   "outputs": [
    {
     "data": {
      "text/plain": [
       "90.0"
      ]
     },
     "execution_count": 125,
     "metadata": {},
     "output_type": "execute_result"
    }
   ],
   "source": [
    "math.degrees(pi/2)"
   ]
  },
  {
   "cell_type": "code",
   "execution_count": 126,
   "id": "95d9b2a1",
   "metadata": {},
   "outputs": [
    {
     "data": {
      "text/plain": [
       "3.141592653589793"
      ]
     },
     "execution_count": 126,
     "metadata": {},
     "output_type": "execute_result"
    }
   ],
   "source": [
    "math.radians(180)"
   ]
  },
  {
   "cell_type": "code",
   "execution_count": 127,
   "id": "00a5f04e",
   "metadata": {},
   "outputs": [],
   "source": [
    "import random"
   ]
  },
  {
   "cell_type": "code",
   "execution_count": 128,
   "id": "481cf48e",
   "metadata": {},
   "outputs": [
    {
     "data": {
      "text/plain": [
       "8"
      ]
     },
     "execution_count": 128,
     "metadata": {},
     "output_type": "execute_result"
    }
   ],
   "source": [
    "random.randint(1,10)"
   ]
  },
  {
   "cell_type": "code",
   "execution_count": 141,
   "id": "6bb8aa85",
   "metadata": {},
   "outputs": [
    {
     "name": "stdout",
     "output_type": "stream",
     "text": [
      "74\n",
      "24\n",
      "69\n",
      "45\n",
      "59\n"
     ]
    }
   ],
   "source": [
    "random.seed(101)\n",
    "\n",
    "print(random.randint(0,100))\n",
    "print(random.randint(0,100))\n",
    "print(random.randint(0,100))\n",
    "print(random.randint(0,100))\n",
    "print(random.randint(0,100))"
   ]
  },
  {
   "cell_type": "code",
   "execution_count": 131,
   "id": "278593be",
   "metadata": {},
   "outputs": [
    {
     "data": {
      "text/plain": [
       "24"
      ]
     },
     "execution_count": 131,
     "metadata": {},
     "output_type": "execute_result"
    }
   ],
   "source": [
    "random.randint(0,100)"
   ]
  },
  {
   "cell_type": "code",
   "execution_count": 140,
   "id": "c2f9e06c",
   "metadata": {},
   "outputs": [
    {
     "data": {
      "text/plain": [
       "28"
      ]
     },
     "execution_count": 140,
     "metadata": {},
     "output_type": "execute_result"
    }
   ],
   "source": [
    "print(random.randint(0,100))\n",
    "print(random.randint(0,100))\n",
    "print(random.randint(0,100))\n",
    "print(random.randint(0,100))\n",
    "print(random.randint(0,100))\n",
    "print(random.randint(0,100))\n",
    "print(random.randint(0,100))"
   ]
  },
  {
   "cell_type": "code",
   "execution_count": 142,
   "id": "42f6afcf",
   "metadata": {},
   "outputs": [],
   "source": [
    "mylist = list(range(0,20))"
   ]
  },
  {
   "cell_type": "code",
   "execution_count": 143,
   "id": "33f9caaa",
   "metadata": {},
   "outputs": [
    {
     "data": {
      "text/plain": [
       "1"
      ]
     },
     "execution_count": 143,
     "metadata": {},
     "output_type": "execute_result"
    }
   ],
   "source": [
    "random.choice(mylist)"
   ]
  },
  {
   "cell_type": "code",
   "execution_count": 144,
   "id": "118dbfbe",
   "metadata": {},
   "outputs": [
    {
     "data": {
      "text/plain": [
       "[0, 1, 2, 3, 4, 5, 6, 7, 8, 9, 10, 11, 12, 13, 14, 15, 16, 17, 18, 19]"
      ]
     },
     "execution_count": 144,
     "metadata": {},
     "output_type": "execute_result"
    }
   ],
   "source": [
    "mylist"
   ]
  },
  {
   "cell_type": "code",
   "execution_count": 147,
   "id": "941c812e",
   "metadata": {},
   "outputs": [
    {
     "data": {
      "text/plain": [
       "[15, 7, 9, 6, 12, 8, 4, 8, 6, 2]"
      ]
     },
     "execution_count": 147,
     "metadata": {},
     "output_type": "execute_result"
    }
   ],
   "source": [
    "random.choices(population = mylist, k=10)"
   ]
  },
  {
   "cell_type": "code",
   "execution_count": 148,
   "id": "9ccc019b",
   "metadata": {},
   "outputs": [],
   "source": [
    "random.shuffle(mylist)"
   ]
  },
  {
   "cell_type": "code",
   "execution_count": 149,
   "id": "8894911b",
   "metadata": {},
   "outputs": [
    {
     "data": {
      "text/plain": [
       "[14, 9, 5, 2, 17, 4, 15, 7, 0, 11, 18, 13, 1, 6, 3, 16, 12, 8, 10, 19]"
      ]
     },
     "execution_count": 149,
     "metadata": {},
     "output_type": "execute_result"
    }
   ],
   "source": [
    "mylist"
   ]
  },
  {
   "cell_type": "code",
   "execution_count": 150,
   "id": "fbf17e5b",
   "metadata": {},
   "outputs": [
    {
     "data": {
      "text/plain": [
       "70.45954194636082"
      ]
     },
     "execution_count": 150,
     "metadata": {},
     "output_type": "execute_result"
    }
   ],
   "source": [
    "random.uniform (a = 0 , b = 100)"
   ]
  },
  {
   "cell_type": "code",
   "execution_count": 151,
   "id": "097f8fb4",
   "metadata": {},
   "outputs": [
    {
     "data": {
      "text/plain": [
       "1.2869593951878815"
      ]
     },
     "execution_count": 151,
     "metadata": {},
     "output_type": "execute_result"
    }
   ],
   "source": [
    "random.gauss(mu=0, sigma = 1)"
   ]
  },
  {
   "cell_type": "code",
   "execution_count": null,
   "id": "c620169d",
   "metadata": {},
   "outputs": [],
   "source": []
  }
 ],
 "metadata": {
  "kernelspec": {
   "display_name": "Python 3 (ipykernel)",
   "language": "python",
   "name": "python3"
  },
  "language_info": {
   "codemirror_mode": {
    "name": "ipython",
    "version": 3
   },
   "file_extension": ".py",
   "mimetype": "text/x-python",
   "name": "python",
   "nbconvert_exporter": "python",
   "pygments_lexer": "ipython3",
   "version": "3.9.16"
  }
 },
 "nbformat": 4,
 "nbformat_minor": 5
}
